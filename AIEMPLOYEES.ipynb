{
 "cells": [
  {
   "cell_type": "code",
   "execution_count": null,
   "metadata": {
    "id": "fJPTpALMhlrv"
   },
   "outputs": [],
   "source": [
    "import numpy as np\n",
    "import matplotlib.pyplot as plt\n",
    "import math\n",
    "from sklearn.model_selection import train_test_split\n",
    "import pandas as pd\n",
    "from sklearn.tree import DecisionTreeClassifier\n",
    "from sklearn import tree"
   ]
  },
  {
   "cell_type": "code",
   "execution_count": null,
   "metadata": {
    "id": "Zjt3YevPiGgi"
   },
   "outputs": [],
   "source": [
    "df=pd.read_csv('/content/WA_Fn-UseC_-HR-Employee-Attrition (1).csv')"
   ]
  },
  {
   "cell_type": "code",
   "execution_count": null,
   "metadata": {
    "colab": {
     "base_uri": "https://localhost:8080/"
    },
    "id": "lN7-7zdOiLYi",
    "outputId": "fcfcfd56-2f17-47c7-d105-7aa319f077f2"
   },
   "outputs": [
    {
     "name": "stdout",
     "output_type": "stream",
     "text": [
      "No of rows: 1470\n",
      "nO of columns: 35\n"
     ]
    }
   ],
   "source": [
    "print('No of rows:',df.shape[0])\n",
    "print('nO of columns:',df.shape[1])"
   ]
  },
  {
   "cell_type": "code",
   "execution_count": null,
   "metadata": {
    "colab": {
     "base_uri": "https://localhost:8080/",
     "height": 332
    },
    "id": "nGm2Kq_36XIa",
    "outputId": "cb077aef-4bc1-4687-f3a7-f2e78dd5b8be"
   },
   "outputs": [
    {
     "name": "stdout",
     "output_type": "stream",
     "text": [
      "237\n",
      "1233\n"
     ]
    },
    {
     "data": {
      "text/plain": [
       "Text(0, 0.5, 'Number')"
      ]
     },
     "execution_count": 184,
     "metadata": {},
     "output_type": "execute_result"
    },
    {
     "data": {
      "image/png": "[encoded data removed]",
      "text/plain": [
       "<Figure size 432x288 with 1 Axes>"
      ]
     },
     "metadata": {
      "needs_background": "light"
     },
     "output_type": "display_data"
    }
   ],
   "source": [
    "attrition = df.groupby('Attrition').size()\n",
    "att_Y=attrition['Yes']\n",
    "print(att_Y)\n",
    "att_N=attrition['No']\n",
    "print(att_N)\n",
    "x=[\"Attrition_Yes\",\"Attrition_No\"]\n",
    "y=[att_Y,att_N]\n",
    "plt.bar(x,y)\n",
    "plt.xlabel(\"Attrition\")\n",
    "plt.ylabel(\"Number\")"
   ]
  },
  {
   "cell_type": "code",
   "execution_count": null,
   "metadata": {
    "colab": {
     "base_uri": "https://localhost:8080/"
    },
    "id": "T9VlriISiNDL",
    "outputId": "9e4532fe-18ae-4a3d-867d-107dabb8d229"
   },
   "outputs": [
    {
     "name": "stdout",
     "output_type": "stream",
     "text": [
      "      Age  DailyRate  DistanceFromHome  Education  EmployeeCount  \\\n",
      "0      41       1102                 1          2              1   \n",
      "1      49        279                 8          1              1   \n",
      "2      37       1373                 2          2              1   \n",
      "3      33       1392                 3          4              1   \n",
      "4      27        591                 2          1              1   \n",
      "...   ...        ...               ...        ...            ...   \n",
      "1465   36        884                23          2              1   \n",
      "1466   39        613                 6          1              1   \n",
      "1467   27        155                 4          3              1   \n",
      "1468   49       1023                 2          3              1   \n",
      "1469   34        628                 8          3              1   \n",
      "\n",
      "      EmployeeNumber  EnvironmentSatisfaction  HourlyRate  JobInvolvement  \\\n",
      "0                  1                        2          94               3   \n",
      "1                  2                        3          61               2   \n",
      "2                  4                        4          92               2   \n",
      "3                  5                        4          56               3   \n",
      "4                  7                        1          40               3   \n",
      "...              ...                      ...         ...             ...   \n",
      "1465            2061                        3          41               4   \n",
      "1466            2062                        4          42               2   \n",
      "1467            2064                        2          87               4   \n",
      "1468            2065                        4          63               2   \n",
      "1469            2068                        2          82               4   \n",
      "\n",
      "      JobLevel  ...  JobRole_Research Director  JobRole_Research Scientist  \\\n",
      "0            2  ...                          0                           0   \n",
      "1            2  ...                          0                           1   \n",
      "2            1  ...                          0                           0   \n",
      "3            1  ...                          0                           1   \n",
      "4            1  ...                          0                           0   \n",
      "...        ...  ...                        ...                         ...   \n",
      "1465         2  ...                          0                           0   \n",
      "1466         3  ...                          0                           0   \n",
      "1467         2  ...                          0                           0   \n",
      "1468         2  ...                          0                           0   \n",
      "1469         2  ...                          0                           0   \n",
      "\n",
      "      JobRole_Sales Executive  JobRole_Sales Representative  \\\n",
      "0                           1                             0   \n",
      "1                           0                             0   \n",
      "2                           0                             0   \n",
      "3                           0                             0   \n",
      "4                           0                             0   \n",
      "...                       ...                           ...   \n",
      "1465                        0                             0   \n",
      "1466                        0                             0   \n",
      "1467                        0                             0   \n",
      "1468                        1                             0   \n",
      "1469                        0                             0   \n",
      "\n",
      "      MaritalStatus_Divorced  MaritalStatus_Married  MaritalStatus_Single  \\\n",
      "0                          0                      0                     1   \n",
      "1                          0                      1                     0   \n",
      "2                          0                      0                     1   \n",
      "3                          0                      1                     0   \n",
      "4                          0                      1                     0   \n",
      "...                      ...                    ...                   ...   \n",
      "1465                       0                      1                     0   \n",
      "1466                       0                      1                     0   \n",
      "1467                       0                      1                     0   \n",
      "1468                       0                      1                     0   \n",
      "1469                       0                      1                     0   \n",
      "\n",
      "      Over18_Y  OverTime_No  OverTime_Yes  \n",
      "0            1            0             1  \n",
      "1            1            1             0  \n",
      "2            1            0             1  \n",
      "3            1            0             1  \n",
      "4            1            1             0  \n",
      "...        ...          ...           ...  \n",
      "1465         1            1             0  \n",
      "1466         1            1             0  \n",
      "1467         1            0             1  \n",
      "1468         1            1             0  \n",
      "1469         1            1             0  \n",
      "\n",
      "[1470 rows x 57 columns]\n"
     ]
    }
   ],
   "source": [
    "final=pd.get_dummies(df)\n",
    "print(final)"
   ]
  },
  {
   "cell_type": "code",
   "execution_count": null,
   "metadata": {
    "colab": {
     "base_uri": "https://localhost:8080/"
    },
    "id": "W-sVxw7RjJdn",
    "outputId": "6ca3a39f-fe66-4f6d-bd04-0105911bbbdb"
   },
   "outputs": [
    {
     "name": "stdout",
     "output_type": "stream",
     "text": [
      "      Age Attrition     BusinessTravel  DailyRate              Department  \\\n",
      "0      41       Yes      Travel_Rarely       1102                   Sales   \n",
      "1      49        No  Travel_Frequently        279  Research & Development   \n",
      "2      37       Yes      Travel_Rarely       1373  Research & Development   \n",
      "3      33        No  Travel_Frequently       1392  Research & Development   \n",
      "4      27        No      Travel_Rarely        591  Research & Development   \n",
      "...   ...       ...                ...        ...                     ...   \n",
      "1465   36        No  Travel_Frequently        884  Research & Development   \n",
      "1466   39        No      Travel_Rarely        613  Research & Development   \n",
      "1467   27        No      Travel_Rarely        155  Research & Development   \n",
      "1468   49        No  Travel_Frequently       1023                   Sales   \n",
      "1469   34        No      Travel_Rarely        628  Research & Development   \n",
      "\n",
      "      DistanceFromHome  Education EducationField  EmployeeCount  \\\n",
      "0                    1          2  Life Sciences              1   \n",
      "1                    8          1  Life Sciences              1   \n",
      "2                    2          2          Other              1   \n",
      "3                    3          4  Life Sciences              1   \n",
      "4                    2          1        Medical              1   \n",
      "...                ...        ...            ...            ...   \n",
      "1465                23          2        Medical              1   \n",
      "1466                 6          1        Medical              1   \n",
      "1467                 4          3  Life Sciences              1   \n",
      "1468                 2          3        Medical              1   \n",
      "1469                 8          3        Medical              1   \n",
      "\n",
      "      EmployeeNumber  ...  JobRole_Research Director  \\\n",
      "0                  1  ...                          0   \n",
      "1                  2  ...                          0   \n",
      "2                  4  ...                          0   \n",
      "3                  5  ...                          0   \n",
      "4                  7  ...                          0   \n",
      "...              ...  ...                        ...   \n",
      "1465            2061  ...                          0   \n",
      "1466            2062  ...                          0   \n",
      "1467            2064  ...                          0   \n",
      "1468            2065  ...                          0   \n",
      "1469            2068  ...                          0   \n",
      "\n",
      "     JobRole_Research Scientist  JobRole_Sales Executive  \\\n",
      "0                             0                        1   \n",
      "1                             1                        0   \n",
      "2                             0                        0   \n",
      "3                             1                        0   \n",
      "4                             0                        0   \n",
      "...                         ...                      ...   \n",
      "1465                          0                        0   \n",
      "1466                          0                        0   \n",
      "1467                          0                        0   \n",
      "1468                          0                        1   \n",
      "1469                          0                        0   \n",
      "\n",
      "      JobRole_Sales Representative  MaritalStatus_Divorced  \\\n",
      "0                                0                       0   \n",
      "1                                0                       0   \n",
      "2                                0                       0   \n",
      "3                                0                       0   \n",
      "4                                0                       0   \n",
      "...                            ...                     ...   \n",
      "1465                             0                       0   \n",
      "1466                             0                       0   \n",
      "1467                             0                       0   \n",
      "1468                             0                       0   \n",
      "1469                             0                       0   \n",
      "\n",
      "     MaritalStatus_Married  MaritalStatus_Single Over18_Y  OverTime_No  \\\n",
      "0                        0                     1        1            0   \n",
      "1                        1                     0        1            1   \n",
      "2                        0                     1        1            0   \n",
      "3                        1                     0        1            0   \n",
      "4                        1                     0        1            1   \n",
      "...                    ...                   ...      ...          ...   \n",
      "1465                     1                     0        1            1   \n",
      "1466                     1                     0        1            1   \n",
      "1467                     1                     0        1            0   \n",
      "1468                     1                     0        1            1   \n",
      "1469                     1                     0        1            1   \n",
      "\n",
      "      OverTime_Yes  \n",
      "0                1  \n",
      "1                0  \n",
      "2                1  \n",
      "3                1  \n",
      "4                0  \n",
      "...            ...  \n",
      "1465             0  \n",
      "1466             0  \n",
      "1467             1  \n",
      "1468             0  \n",
      "1469             0  \n",
      "\n",
      "[1470 rows x 92 columns]\n"
     ]
    }
   ],
   "source": [
    "df=pd.concat([df,final],axis=1)\n",
    "print(df)"
   ]
  },
  {
   "cell_type": "code",
   "execution_count": null,
   "metadata": {
    "colab": {
     "base_uri": "https://localhost:8080/"
    },
    "id": "b2p4yH2i2Akt",
    "outputId": "822f32bf-2482-4615-b681-853316cc6839"
   },
   "outputs": [
    {
     "name": "stdout",
     "output_type": "stream",
     "text": [
      "<class 'pandas.core.frame.DataFrame'>\n",
      "RangeIndex: 1470 entries, 0 to 1469\n",
      "Data columns (total 92 columns):\n",
      " #   Column                             Non-Null Count  Dtype \n",
      "---  ------                             --------------  ----- \n",
      " 0   Age                                1470 non-null   int64 \n",
      " 1   Attrition                          1470 non-null   object\n",
      " 2   BusinessTravel                     1470 non-null   object\n",
      " 3   DailyRate                          1470 non-null   int64 \n",
      " 4   Department                         1470 non-null   object\n",
      " 5   DistanceFromHome                   1470 non-null   int64 \n",
      " 6   Education                          1470 non-null   int64 \n",
      " 7   EducationField                     1470 non-null   object\n",
      " 8   EmployeeCount                      1470 non-null   int64 \n",
      " 9   EmployeeNumber                     1470 non-null   int64 \n",
      " 10  EnvironmentSatisfaction            1470 non-null   int64 \n",
      " 11  Gender                             1470 non-null   object\n",
      " 12  HourlyRate                         1470 non-null   int64 \n",
      " 13  JobInvolvement                     1470 non-null   int64 \n",
      " 14  JobLevel                           1470 non-null   int64 \n",
      " 15  JobRole                            1470 non-null   object\n",
      " 16  JobSatisfaction                    1470 non-null   int64 \n",
      " 17  MaritalStatus                      1470 non-null   object\n",
      " 18  MonthlyIncome                      1470 non-null   int64 \n",
      " 19  MonthlyRate                        1470 non-null   int64 \n",
      " 20  NumCompaniesWorked                 1470 non-null   int64 \n",
      " 21  Over18                             1470 non-null   object\n",
      " 22  OverTime                           1470 non-null   object\n",
      " 23  PercentSalaryHike                  1470 non-null   int64 \n",
      " 24  PerformanceRating                  1470 non-null   int64 \n",
      " 25  RelationshipSatisfaction           1470 non-null   int64 \n",
      " 26  StandardHours                      1470 non-null   int64 \n",
      " 27  StockOptionLevel                   1470 non-null   int64 \n",
      " 28  TotalWorkingYears                  1470 non-null   int64 \n",
      " 29  TrainingTimesLastYear              1470 non-null   int64 \n",
      " 30  WorkLifeBalance                    1470 non-null   int64 \n",
      " 31  YearsAtCompany                     1470 non-null   int64 \n",
      " 32  YearsInCurrentRole                 1470 non-null   int64 \n",
      " 33  YearsSinceLastPromotion            1470 non-null   int64 \n",
      " 34  YearsWithCurrManager               1470 non-null   int64 \n",
      " 35  Age                                1470 non-null   int64 \n",
      " 36  DailyRate                          1470 non-null   int64 \n",
      " 37  DistanceFromHome                   1470 non-null   int64 \n",
      " 38  Education                          1470 non-null   int64 \n",
      " 39  EmployeeCount                      1470 non-null   int64 \n",
      " 40  EmployeeNumber                     1470 non-null   int64 \n",
      " 41  EnvironmentSatisfaction            1470 non-null   int64 \n",
      " 42  HourlyRate                         1470 non-null   int64 \n",
      " 43  JobInvolvement                     1470 non-null   int64 \n",
      " 44  JobLevel                           1470 non-null   int64 \n",
      " 45  JobSatisfaction                    1470 non-null   int64 \n",
      " 46  MonthlyIncome                      1470 non-null   int64 \n",
      " 47  MonthlyRate                        1470 non-null   int64 \n",
      " 48  NumCompaniesWorked                 1470 non-null   int64 \n",
      " 49  PercentSalaryHike                  1470 non-null   int64 \n",
      " 50  PerformanceRating                  1470 non-null   int64 \n",
      " 51  RelationshipSatisfaction           1470 non-null   int64 \n",
      " 52  StandardHours                      1470 non-null   int64 \n",
      " 53  StockOptionLevel                   1470 non-null   int64 \n",
      " 54  TotalWorkingYears                  1470 non-null   int64 \n",
      " 55  TrainingTimesLastYear              1470 non-null   int64 \n",
      " 56  WorkLifeBalance                    1470 non-null   int64 \n",
      " 57  YearsAtCompany                     1470 non-null   int64 \n",
      " 58  YearsInCurrentRole                 1470 non-null   int64 \n",
      " 59  YearsSinceLastPromotion            1470 non-null   int64 \n",
      " 60  YearsWithCurrManager               1470 non-null   int64 \n",
      " 61  Attrition_No                       1470 non-null   uint8 \n",
      " 62  Attrition_Yes                      1470 non-null   uint8 \n",
      " 63  BusinessTravel_Non-Travel          1470 non-null   uint8 \n",
      " 64  BusinessTravel_Travel_Frequently   1470 non-null   uint8 \n",
      " 65  BusinessTravel_Travel_Rarely       1470 non-null   uint8 \n",
      " 66  Department_Human Resources         1470 non-null   uint8 \n",
      " 67  Department_Research & Development  1470 non-null   uint8 \n",
      " 68  Department_Sales                   1470 non-null   uint8 \n",
      " 69  EducationField_Human Resources     1470 non-null   uint8 \n",
      " 70  EducationField_Life Sciences       1470 non-null   uint8 \n",
      " 71  EducationField_Marketing           1470 non-null   uint8 \n",
      " 72  EducationField_Medical             1470 non-null   uint8 \n",
      " 73  EducationField_Other               1470 non-null   uint8 \n",
      " 74  EducationField_Technical Degree    1470 non-null   uint8 \n",
      " 75  Gender_Female                      1470 non-null   uint8 \n",
      " 76  Gender_Male                        1470 non-null   uint8 \n",
      " 77  JobRole_Healthcare Representative  1470 non-null   uint8 \n",
      " 78  JobRole_Human Resources            1470 non-null   uint8 \n",
      " 79  JobRole_Laboratory Technician      1470 non-null   uint8 \n",
      " 80  JobRole_Manager                    1470 non-null   uint8 \n",
      " 81  JobRole_Manufacturing Director     1470 non-null   uint8 \n",
      " 82  JobRole_Research Director          1470 non-null   uint8 \n",
      " 83  JobRole_Research Scientist         1470 non-null   uint8 \n",
      " 84  JobRole_Sales Executive            1470 non-null   uint8 \n",
      " 85  JobRole_Sales Representative       1470 non-null   uint8 \n",
      " 86  MaritalStatus_Divorced             1470 non-null   uint8 \n",
      " 87  MaritalStatus_Married              1470 non-null   uint8 \n",
      " 88  MaritalStatus_Single               1470 non-null   uint8 \n",
      " 89  Over18_Y                           1470 non-null   uint8 \n",
      " 90  OverTime_No                        1470 non-null   uint8 \n",
      " 91  OverTime_Yes                       1470 non-null   uint8 \n",
      "dtypes: int64(52), object(9), uint8(31)\n",
      "memory usage: 745.2+ KB\n"
     ]
    }
   ],
   "source": [
    "df.info()"
   ]
  },
  {
   "cell_type": "code",
   "execution_count": null,
   "metadata": {
    "id": "rai_7bTy4oGH"
   },
   "outputs": [],
   "source": [
    "x=[df.Attrition_Yes]"
   ]
  },
  {
   "cell_type": "code",
   "execution_count": null,
   "metadata": {
    "id": "_VsAtkWpjZVv"
   },
   "outputs": [],
   "source": [
    "df=df.drop(['Attrition_No','Attrition','BusinessTravel','Department','EducationField','Gender','JobRole','MaritalStatus','OverTime','Over18'],axis=1)"
   ]
  },
  {
   "cell_type": "code",
   "execution_count": null,
   "metadata": {
    "colab": {
     "base_uri": "https://localhost:8080/"
    },
    "id": "y8dcMydc1chd",
    "outputId": "3910bcc3-b1ac-4029-eee7-002cd0e6f4ab"
   },
   "outputs": [
    {
     "name": "stdout",
     "output_type": "stream",
     "text": [
      "<class 'pandas.core.frame.DataFrame'>\n",
      "RangeIndex: 1470 entries, 0 to 1469\n",
      "Data columns (total 82 columns):\n",
      " #   Column                             Non-Null Count  Dtype\n",
      "---  ------                             --------------  -----\n",
      " 0   Age                                1470 non-null   int64\n",
      " 1   DailyRate                          1470 non-null   int64\n",
      " 2   DistanceFromHome                   1470 non-null   int64\n",
      " 3   Education                          1470 non-null   int64\n",
      " 4   EmployeeCount                      1470 non-null   int64\n",
      " 5   EmployeeNumber                     1470 non-null   int64\n",
      " 6   EnvironmentSatisfaction            1470 non-null   int64\n",
      " 7   HourlyRate                         1470 non-null   int64\n",
      " 8   JobInvolvement                     1470 non-null   int64\n",
      " 9   JobLevel                           1470 non-null   int64\n",
      " 10  JobSatisfaction                    1470 non-null   int64\n",
      " 11  MonthlyIncome                      1470 non-null   int64\n",
      " 12  MonthlyRate                        1470 non-null   int64\n",
      " 13  NumCompaniesWorked                 1470 non-null   int64\n",
      " 14  PercentSalaryHike                  1470 non-null   int64\n",
      " 15  PerformanceRating                  1470 non-null   int64\n",
      " 16  RelationshipSatisfaction           1470 non-null   int64\n",
      " 17  StandardHours                      1470 non-null   int64\n",
      " 18  StockOptionLevel                   1470 non-null   int64\n",
      " 19  TotalWorkingYears                  1470 non-null   int64\n",
      " 20  TrainingTimesLastYear              1470 non-null   int64\n",
      " 21  WorkLifeBalance                    1470 non-null   int64\n",
      " 22  YearsAtCompany                     1470 non-null   int64\n",
      " 23  YearsInCurrentRole                 1470 non-null   int64\n",
      " 24  YearsSinceLastPromotion            1470 non-null   int64\n",
      " 25  YearsWithCurrManager               1470 non-null   int64\n",
      " 26  Age                                1470 non-null   int64\n",
      " 27  DailyRate                          1470 non-null   int64\n",
      " 28  DistanceFromHome                   1470 non-null   int64\n",
      " 29  Education                          1470 non-null   int64\n",
      " 30  EmployeeCount                      1470 non-null   int64\n",
      " 31  EmployeeNumber                     1470 non-null   int64\n",
      " 32  EnvironmentSatisfaction            1470 non-null   int64\n",
      " 33  HourlyRate                         1470 non-null   int64\n",
      " 34  JobInvolvement                     1470 non-null   int64\n",
      " 35  JobLevel                           1470 non-null   int64\n",
      " 36  JobSatisfaction                    1470 non-null   int64\n",
      " 37  MonthlyIncome                      1470 non-null   int64\n",
      " 38  MonthlyRate                        1470 non-null   int64\n",
      " 39  NumCompaniesWorked                 1470 non-null   int64\n",
      " 40  PercentSalaryHike                  1470 non-null   int64\n",
      " 41  PerformanceRating                  1470 non-null   int64\n",
      " 42  RelationshipSatisfaction           1470 non-null   int64\n",
      " 43  StandardHours                      1470 non-null   int64\n",
      " 44  StockOptionLevel                   1470 non-null   int64\n",
      " 45  TotalWorkingYears                  1470 non-null   int64\n",
      " 46  TrainingTimesLastYear              1470 non-null   int64\n",
      " 47  WorkLifeBalance                    1470 non-null   int64\n",
      " 48  YearsAtCompany                     1470 non-null   int64\n",
      " 49  YearsInCurrentRole                 1470 non-null   int64\n",
      " 50  YearsSinceLastPromotion            1470 non-null   int64\n",
      " 51  YearsWithCurrManager               1470 non-null   int64\n",
      " 52  Attrition_Yes                      1470 non-null   uint8\n",
      " 53  BusinessTravel_Non-Travel          1470 non-null   uint8\n",
      " 54  BusinessTravel_Travel_Frequently   1470 non-null   uint8\n",
      " 55  BusinessTravel_Travel_Rarely       1470 non-null   uint8\n",
      " 56  Department_Human Resources         1470 non-null   uint8\n",
      " 57  Department_Research & Development  1470 non-null   uint8\n",
      " 58  Department_Sales                   1470 non-null   uint8\n",
      " 59  EducationField_Human Resources     1470 non-null   uint8\n",
      " 60  EducationField_Life Sciences       1470 non-null   uint8\n",
      " 61  EducationField_Marketing           1470 non-null   uint8\n",
      " 62  EducationField_Medical             1470 non-null   uint8\n",
      " 63  EducationField_Other               1470 non-null   uint8\n",
      " 64  EducationField_Technical Degree    1470 non-null   uint8\n",
      " 65  Gender_Female                      1470 non-null   uint8\n",
      " 66  Gender_Male                        1470 non-null   uint8\n",
      " 67  JobRole_Healthcare Representative  1470 non-null   uint8\n",
      " 68  JobRole_Human Resources            1470 non-null   uint8\n",
      " 69  JobRole_Laboratory Technician      1470 non-null   uint8\n",
      " 70  JobRole_Manager                    1470 non-null   uint8\n",
      " 71  JobRole_Manufacturing Director     1470 non-null   uint8\n",
      " 72  JobRole_Research Director          1470 non-null   uint8\n",
      " 73  JobRole_Research Scientist         1470 non-null   uint8\n",
      " 74  JobRole_Sales Executive            1470 non-null   uint8\n",
      " 75  JobRole_Sales Representative       1470 non-null   uint8\n",
      " 76  MaritalStatus_Divorced             1470 non-null   uint8\n",
      " 77  MaritalStatus_Married              1470 non-null   uint8\n",
      " 78  MaritalStatus_Single               1470 non-null   uint8\n",
      " 79  Over18_Y                           1470 non-null   uint8\n",
      " 80  OverTime_No                        1470 non-null   uint8\n",
      " 81  OverTime_Yes                       1470 non-null   uint8\n",
      "dtypes: int64(52), uint8(30)\n",
      "memory usage: 640.4 KB\n"
     ]
    }
   ],
   "source": [
    "df.info()"
   ]
  },
  {
   "cell_type": "code",
   "execution_count": null,
   "metadata": {
    "colab": {
     "base_uri": "https://localhost:8080/"
    },
    "id": "2zpSVdoJkHL6",
    "outputId": "d3ae5df5-cbcf-4638-92c6-7cd3edd8aa35"
   },
   "outputs": [
    {
     "name": "stdout",
     "output_type": "stream",
     "text": [
      "0       1\n",
      "1       0\n",
      "2       1\n",
      "3       0\n",
      "4       0\n",
      "       ..\n",
      "1465    0\n",
      "1466    0\n",
      "1467    0\n",
      "1468    0\n",
      "1469    0\n",
      "Name: Attrition_Yes, Length: 1470, dtype: uint8\n"
     ]
    }
   ],
   "source": [
    "X=df.drop(['Attrition_Yes'],axis=1)\n",
    "Y=df['Attrition_Yes']\n",
    "print(Y)"
   ]
  },
  {
   "cell_type": "code",
   "execution_count": null,
   "metadata": {
    "id": "olpOSzn4sPN9"
   },
   "outputs": [],
   "source": [
    "x_train, x_test, y_train, y_test = train_test_split(X,Y,test_size=0.1,random_state=0)"
   ]
  },
  {
   "cell_type": "code",
   "execution_count": null,
   "metadata": {
    "colab": {
     "base_uri": "https://localhost:8080/"
    },
    "id": "lmv9m-imsQB8",
    "outputId": "6267d5b9-88e0-40f1-fc30-2a3fb66c1e73"
   },
   "outputs": [
    {
     "name": "stdout",
     "output_type": "stream",
     "text": [
      "0.8231292517006803\n"
     ]
    }
   ],
   "source": [
    "model=DecisionTreeClassifier(min_samples_leaf=100)\n",
    "model=model.fit(x_train,y_train)\n",
    "accuracy=model.score(x_test,y_test)\n",
    "print(accuracy)"
   ]
  },
  {
   "cell_type": "code",
   "execution_count": null,
   "metadata": {
    "colab": {
     "base_uri": "https://localhost:8080/"
    },
    "id": "DlF3SQqR7dGY",
    "outputId": "b84232d1-81e5-4c1c-f5b8-2d235c8aabea"
   },
   "outputs": [
    {
     "name": "stdout",
     "output_type": "stream",
     "text": [
      "[[98 23]\n",
      " [17  9]]\n"
     ]
    }
   ],
   "source": [
    "prediction = model.predict(x_test)\n",
    "from sklearn.metrics import confusion_matrix\n",
    "print(confusion_matrix(y_test,prediction))"
   ]
  }
 ],
 "metadata": {
  "colab": {
   "name": "AIEMPLOYEES.ipynb",
   "provenance": []
  },
  "kernelspec": {
   "display_name": "Python 3 (ipykernel)",
   "language": "python",
   "name": "python3"
  },
  "language_info": {
   "codemirror_mode": {
    "name": "ipython",
    "version": 3
   },
   "file_extension": ".py",
   "mimetype": "text/x-python",
   "name": "python",
   "nbconvert_exporter": "python",
   "pygments_lexer": "ipython3",
   "version": "3.10.4"
  }
 },
 "nbformat": 4,
 "nbformat_minor": 1
}
