{
 "cells": [
  {
   "cell_type": "markdown",
   "id": "7d89e396",
   "metadata": {},
   "source": [
    "# AI Lab 7 Q2 Meher Shrishti Nigam 20BRS1193"
   ]
  },
  {
   "cell_type": "code",
   "execution_count": null,
   "id": "803ac006",
   "metadata": {},
   "outputs": [],
   "source": [
    "import numpy as np\n",
    "import pandas as pd\n",
    "import matplotlib.pyplot as plt\n",
    "from sklearn.neural_network import MLPClassifier"
   ]
  },
  {
   "cell_type": "code",
   "execution_count": 72,
   "id": "dce8a648",
   "metadata": {},
   "outputs": [
    {
     "name": "stdout",
     "output_type": "stream",
     "text": [
      "   SepalLengthCm  SepalWidthCm  PetalLengthCm  PetalWidthCm      Species\n",
      "0            5.1           3.5            1.4           0.2  Iris-setosa\n",
      "1            4.9           3.0            1.4           0.2  Iris-setosa\n",
      "2            4.7           3.2            1.3           0.2  Iris-setosa\n",
      "3            4.6           3.1            1.5           0.2  Iris-setosa\n",
      "4            5.0           3.6            1.4           0.2  Iris-setosa\n",
      "     SepalLengthCm  SepalWidthCm  PetalLengthCm  PetalWidthCm          Species\n",
      "7              5.0           3.4            1.5           0.2      Iris-setosa\n",
      "125            7.2           3.2            6.0           1.8   Iris-virginica\n",
      "119            6.0           2.2            5.0           1.5   Iris-virginica\n",
      "55             5.7           2.8            4.5           1.3  Iris-versicolor\n",
      "13             4.3           3.0            1.1           0.1      Iris-setosa\n"
     ]
    }
   ],
   "source": [
    "dt = pd.read_csv(\"iris.csv\")\n",
    "dt.drop('Id', inplace=True, axis = 1)\n",
    "print(dt[:5])\n",
    "\n",
    "dt = dt.sample(frac = 1)\n",
    "print(dt[:5])"
   ]
  },
  {
   "cell_type": "code",
   "execution_count": 73,
   "id": "a95c176e",
   "metadata": {},
   "outputs": [
    {
     "data": {
      "text/plain": [
       "Text(0, 0.5, 'Number')"
      ]
     },
     "execution_count": 73,
     "metadata": {},
     "output_type": "execute_result"
    },
    {
     "data": {
      "image/png": "[encoded data removed]",
      "text/plain": [
       "<Figure size 432x288 with 1 Axes>"
      ]
     },
     "metadata": {
      "needs_background": "light"
     },
     "output_type": "display_data"
    }
   ],
   "source": [
    "species = dt.groupby('Species').size()\n",
    "iris_setosa = species['Iris-setosa']\n",
    "iris_versicolor = species['Iris-versicolor']\n",
    "iris_virginica = species['Iris-virginica']\n",
    "\n",
    "x = [\"Iris-setosa\",\"Iris-versicolor\", \"Iris-virginica\"]\n",
    "y = [iris_setosa,iris_versicolor,iris_virginica]\n",
    "\n",
    "plt.bar(x,y)\n",
    "plt.xlabel(\"Species\")\n",
    "plt.ylabel(\"Number\")"
   ]
  },
  {
   "cell_type": "code",
   "execution_count": 74,
   "id": "1b642f4f",
   "metadata": {},
   "outputs": [
    {
     "name": "stdout",
     "output_type": "stream",
     "text": [
      "['Iris-setosa', 'Iris-versicolor', 'Iris-virginica']\n",
      "7          Iris-setosa\n",
      "125     Iris-virginica\n",
      "119     Iris-virginica\n",
      "55     Iris-versicolor\n",
      "13         Iris-setosa\n",
      "            ...       \n",
      "38         Iris-setosa\n",
      "123     Iris-virginica\n",
      "5          Iris-setosa\n",
      "101     Iris-virginica\n",
      "61     Iris-versicolor\n",
      "Name: Species, Length: 150, dtype: object\n"
     ]
    }
   ],
   "source": [
    "y = dt.pop('Species')\n",
    "print(x)\n",
    "print(y)\n",
    "from sklearn.model_selection import train_test_split\n",
    "x_train, x_test, y_train, y_test = train_test_split(dt, y, test_size=0.2, random_state = 42)"
   ]
  },
  {
   "cell_type": "code",
   "execution_count": 75,
   "id": "3f05d2bd",
   "metadata": {},
   "outputs": [
    {
     "data": {
      "text/plain": [
       "MLPClassifier(hidden_layer_sizes=(20, 40, 30), max_iter=500, random_state=42)"
      ]
     },
     "execution_count": 75,
     "metadata": {},
     "output_type": "execute_result"
    }
   ],
   "source": [
    "# Making the model\n",
    "\n",
    "# Epochs = 500\n",
    "# Acitivation Function = relu\n",
    "# Layers = 20, 40, 30\n",
    "# Learning rate = automatically initialized to 0.001 by the library\n",
    "\n",
    "classifier_model = MLPClassifier(hidden_layer_sizes=(20,40,30), max_iter=500,activation = 'relu', solver='adam', random_state=42)\n",
    "classifier_model.fit(x_train, y_train)"
   ]
  },
  {
   "cell_type": "code",
   "execution_count": 76,
   "id": "cbf20814",
   "metadata": {},
   "outputs": [
    {
     "name": "stdout",
     "output_type": "stream",
     "text": [
      "['Iris-virginica' 'Iris-virginica' 'Iris-virginica' 'Iris-virginica'\n",
      " 'Iris-versicolor']\n",
      "107     Iris-virginica\n",
      "106     Iris-virginica\n",
      "104     Iris-virginica\n",
      "128     Iris-virginica\n",
      "88     Iris-versicolor\n",
      "Name: Species, dtype: object\n",
      "\n",
      "\n",
      "Accuracy: 0.9666666666666667\n"
     ]
    }
   ],
   "source": [
    "# Predicting and seeing result \n",
    "y_pred = classifier_model.predict(x_test)\n",
    "print(y_pred[:5])\n",
    "print(y_test[:5])\n",
    "\n",
    "# Checking Accuracy\n",
    "accuracy = classifier_model.score(x_test, y_test)\n",
    "print(f\"\\n\\nAccuracy: {accuracy}\")"
   ]
  },
  {
   "cell_type": "code",
   "execution_count": 77,
   "id": "52b41d19",
   "metadata": {},
   "outputs": [
    {
     "name": "stdout",
     "output_type": "stream",
     "text": [
      "[[10  0  0]\n",
      " [ 0  9  1]\n",
      " [ 0  0 10]]\n"
     ]
    }
   ],
   "source": [
    "# Confusion Matrix\n",
    "\n",
    "pred = classifier_model.predict(x_test)\n",
    "from sklearn.metrics import confusion_matrix\n",
    "cm = confusion_matrix(y_test,pred)\n",
    "print(cm)"
   ]
  }
 ],
 "metadata": {
  "kernelspec": {
   "display_name": "Python 3 (ipykernel)",
   "language": "python",
   "name": "python3"
  },
  "language_info": {
   "codemirror_mode": {
    "name": "ipython",
    "version": 3
   },
   "file_extension": ".py",
   "mimetype": "text/x-python",
   "name": "python",
   "nbconvert_exporter": "python",
   "pygments_lexer": "ipython3",
   "version": "3.10.4"
  }
 },
 "nbformat": 4,
 "nbformat_minor": 5
}
