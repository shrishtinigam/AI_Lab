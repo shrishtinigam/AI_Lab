{
  "cells": [
    {
      "cell_type": "markdown",
      "id": "084f6abe",
      "metadata": {
        "id": "084f6abe"
      },
      "source": [
        "### CSE2039 - Fundamentals of AI || PAT 2 Examination"
      ]
    },
    {
      "cell_type": "markdown",
      "id": "58869ecb",
      "metadata": {
        "id": "58869ecb"
      },
      "source": [
        "#### Naive - Bayes Classification"
      ]
    },
    {
      "cell_type": "markdown",
      "id": "0d58fcb6",
      "metadata": {
        "id": "0d58fcb6"
      },
      "source": [
        "Name : Sai Samyuktha N"
      ]
    },
    {
      "cell_type": "markdown",
      "id": "f52848f7",
      "metadata": {
        "id": "f52848f7"
      },
      "source": [
        "Reg no : 20BRS1114"
      ]
    },
    {
      "cell_type": "code",
      "source": [
        "from google.colab import drive\n",
        "drive.mount('/content/gdrive')"
      ],
      "metadata": {
        "colab": {
          "base_uri": "https://localhost:8080/"
        },
        "id": "jxjdfBgd0li9",
        "outputId": "2df29fc6-eb6a-4e7d-d62c-7b1eb71c95a0"
      },
      "id": "jxjdfBgd0li9",
      "execution_count": 101,
      "outputs": [
        {
          "output_type": "stream",
          "name": "stdout",
          "text": [
            "Drive already mounted at /content/gdrive; to attempt to forcibly remount, call drive.mount(\"/content/gdrive\", force_remount=True).\n"
          ]
        }
      ]
    },
    {
      "cell_type": "code",
      "source": [
        "cd /content/gdrive/My Drive/Colab_csvs"
      ],
      "metadata": {
        "colab": {
          "base_uri": "https://localhost:8080/"
        },
        "id": "5kKavR_x02Et",
        "outputId": "85671659-fb1e-4cee-e7ef-6eea7d8d9795"
      },
      "id": "5kKavR_x02Et",
      "execution_count": 128,
      "outputs": [
        {
          "output_type": "stream",
          "name": "stdout",
          "text": [
            "/content/gdrive/My Drive/Colab_csvs\n"
          ]
        }
      ]
    },
    {
      "cell_type": "code",
      "source": [
        "ls"
      ],
      "metadata": {
        "colab": {
          "base_uri": "https://localhost:8080/"
        },
        "id": "9xFi8rIq08K-",
        "outputId": "9d7d9be7-1688-4d2e-8f74-f1524ce72e44"
      },
      "id": "9xFi8rIq08K-",
      "execution_count": 103,
      "outputs": [
        {
          "output_type": "stream",
          "name": "stdout",
          "text": [
            "FluPrediction.csv  Nephritis.csv  tennis_test.csv\n",
            "hos.csv            output.csv     tenniswithcal.csv\n",
            "IRIS.csv           Telecom.csv    WA_Fn-UseC_-HR-Employee-Attrition.csv\n",
            "members.csv        tennis.csv\n"
          ]
        }
      ]
    },
    {
      "cell_type": "code",
      "execution_count": 104,
      "id": "27e0335b",
      "metadata": {
        "id": "27e0335b"
      },
      "outputs": [],
      "source": [
        "import pandas as pd \n",
        "import numpy as np"
      ]
    },
    {
      "cell_type": "code",
      "execution_count": 105,
      "id": "93b1b004",
      "metadata": {
        "id": "93b1b004"
      },
      "outputs": [],
      "source": [
        "dataframe = pd.read_csv(\"Nephritis.csv\")"
      ]
    },
    {
      "cell_type": "code",
      "execution_count": 106,
      "id": "201c4eec",
      "metadata": {
        "id": "201c4eec",
        "outputId": "accc27d7-f7ed-41c2-ba8b-feb405a8d975",
        "colab": {
          "base_uri": "https://localhost:8080/",
          "height": 424
        }
      },
      "outputs": [
        {
          "output_type": "execute_result",
          "data": {
            "text/plain": [
              "     Temperature Nausea Lumbar pain Continous_need Micturition pains Burning  \\\n",
              "0           35.5     no         yes             no                no      no   \n",
              "1           35.9     no          no            yes               yes     yes   \n",
              "2           35.9     no         yes             no                no      no   \n",
              "3           36.0     no          no            yes               yes     yes   \n",
              "4           36.0     no         yes             no                no      no   \n",
              "..           ...    ...         ...            ...               ...     ...   \n",
              "115         41.4     no         yes            yes                no     yes   \n",
              "116         41.5     no          no             no                no      no   \n",
              "117         41.5    yes         yes             no               yes      no   \n",
              "118         41.5     no         yes            yes                no     yes   \n",
              "119         41.5     no         yes            yes                no     yes   \n",
              "\n",
              "    Nephritis  \n",
              "0          no  \n",
              "1          no  \n",
              "2          no  \n",
              "3          no  \n",
              "4          no  \n",
              "..        ...  \n",
              "115       yes  \n",
              "116        no  \n",
              "117       yes  \n",
              "118       yes  \n",
              "119       yes  \n",
              "\n",
              "[120 rows x 7 columns]"
            ],
            "text/html": [
              "\n",
              "  <div id=\"df-5534edbc-7e66-4bd8-b552-feba8d01f17f\">\n",
              "    <div class=\"colab-df-container\">\n",
              "      <div>\n",
              "<style scoped>\n",
              "    .dataframe tbody tr th:only-of-type {\n",
              "        vertical-align: middle;\n",
              "    }\n",
              "\n",
              "    .dataframe tbody tr th {\n",
              "        vertical-align: top;\n",
              "    }\n",
              "\n",
              "    .dataframe thead th {\n",
              "        text-align: right;\n",
              "    }\n",
              "</style>\n",
              "<table border=\"1\" class=\"dataframe\">\n",
              "  <thead>\n",
              "    <tr style=\"text-align: right;\">\n",
              "      <th></th>\n",
              "      <th>Temperature</th>\n",
              "      <th>Nausea</th>\n",
              "      <th>Lumbar pain</th>\n",
              "      <th>Continous_need</th>\n",
              "      <th>Micturition pains</th>\n",
              "      <th>Burning</th>\n",
              "      <th>Nephritis</th>\n",
              "    </tr>\n",
              "  </thead>\n",
              "  <tbody>\n",
              "    <tr>\n",
              "      <th>0</th>\n",
              "      <td>35.5</td>\n",
              "      <td>no</td>\n",
              "      <td>yes</td>\n",
              "      <td>no</td>\n",
              "      <td>no</td>\n",
              "      <td>no</td>\n",
              "      <td>no</td>\n",
              "    </tr>\n",
              "    <tr>\n",
              "      <th>1</th>\n",
              "      <td>35.9</td>\n",
              "      <td>no</td>\n",
              "      <td>no</td>\n",
              "      <td>yes</td>\n",
              "      <td>yes</td>\n",
              "      <td>yes</td>\n",
              "      <td>no</td>\n",
              "    </tr>\n",
              "    <tr>\n",
              "      <th>2</th>\n",
              "      <td>35.9</td>\n",
              "      <td>no</td>\n",
              "      <td>yes</td>\n",
              "      <td>no</td>\n",
              "      <td>no</td>\n",
              "      <td>no</td>\n",
              "      <td>no</td>\n",
              "    </tr>\n",
              "    <tr>\n",
              "      <th>3</th>\n",
              "      <td>36.0</td>\n",
              "      <td>no</td>\n",
              "      <td>no</td>\n",
              "      <td>yes</td>\n",
              "      <td>yes</td>\n",
              "      <td>yes</td>\n",
              "      <td>no</td>\n",
              "    </tr>\n",
              "    <tr>\n",
              "      <th>4</th>\n",
              "      <td>36.0</td>\n",
              "      <td>no</td>\n",
              "      <td>yes</td>\n",
              "      <td>no</td>\n",
              "      <td>no</td>\n",
              "      <td>no</td>\n",
              "      <td>no</td>\n",
              "    </tr>\n",
              "    <tr>\n",
              "      <th>...</th>\n",
              "      <td>...</td>\n",
              "      <td>...</td>\n",
              "      <td>...</td>\n",
              "      <td>...</td>\n",
              "      <td>...</td>\n",
              "      <td>...</td>\n",
              "      <td>...</td>\n",
              "    </tr>\n",
              "    <tr>\n",
              "      <th>115</th>\n",
              "      <td>41.4</td>\n",
              "      <td>no</td>\n",
              "      <td>yes</td>\n",
              "      <td>yes</td>\n",
              "      <td>no</td>\n",
              "      <td>yes</td>\n",
              "      <td>yes</td>\n",
              "    </tr>\n",
              "    <tr>\n",
              "      <th>116</th>\n",
              "      <td>41.5</td>\n",
              "      <td>no</td>\n",
              "      <td>no</td>\n",
              "      <td>no</td>\n",
              "      <td>no</td>\n",
              "      <td>no</td>\n",
              "      <td>no</td>\n",
              "    </tr>\n",
              "    <tr>\n",
              "      <th>117</th>\n",
              "      <td>41.5</td>\n",
              "      <td>yes</td>\n",
              "      <td>yes</td>\n",
              "      <td>no</td>\n",
              "      <td>yes</td>\n",
              "      <td>no</td>\n",
              "      <td>yes</td>\n",
              "    </tr>\n",
              "    <tr>\n",
              "      <th>118</th>\n",
              "      <td>41.5</td>\n",
              "      <td>no</td>\n",
              "      <td>yes</td>\n",
              "      <td>yes</td>\n",
              "      <td>no</td>\n",
              "      <td>yes</td>\n",
              "      <td>yes</td>\n",
              "    </tr>\n",
              "    <tr>\n",
              "      <th>119</th>\n",
              "      <td>41.5</td>\n",
              "      <td>no</td>\n",
              "      <td>yes</td>\n",
              "      <td>yes</td>\n",
              "      <td>no</td>\n",
              "      <td>yes</td>\n",
              "      <td>yes</td>\n",
              "    </tr>\n",
              "  </tbody>\n",
              "</table>\n",
              "<p>120 rows × 7 columns</p>\n",
              "</div>\n",
              "      <button class=\"colab-df-convert\" onclick=\"convertToInteractive('df-5534edbc-7e66-4bd8-b552-feba8d01f17f')\"\n",
              "              title=\"Convert this dataframe to an interactive table.\"\n",
              "              style=\"display:none;\">\n",
              "        \n",
              "  <svg xmlns=\"http://www.w3.org/2000/svg\" height=\"24px\"viewBox=\"0 0 24 24\"\n",
              "       width=\"24px\">\n",
              "    <path d=\"M0 0h24v24H0V0z\" fill=\"none\"/>\n",
              "    <path d=\"M18.56 5.44l.94 2.06.94-2.06 2.06-.94-2.06-.94-.94-2.06-.94 2.06-2.06.94zm-11 1L8.5 8.5l.94-2.06 2.06-.94-2.06-.94L8.5 2.5l-.94 2.06-2.06.94zm10 10l.94 2.06.94-2.06 2.06-.94-2.06-.94-.94-2.06-.94 2.06-2.06.94z\"/><path d=\"M17.41 7.96l-1.37-1.37c-.4-.4-.92-.59-1.43-.59-.52 0-1.04.2-1.43.59L10.3 9.45l-7.72 7.72c-.78.78-.78 2.05 0 2.83L4 21.41c.39.39.9.59 1.41.59.51 0 1.02-.2 1.41-.59l7.78-7.78 2.81-2.81c.8-.78.8-2.07 0-2.86zM5.41 20L4 18.59l7.72-7.72 1.47 1.35L5.41 20z\"/>\n",
              "  </svg>\n",
              "      </button>\n",
              "      \n",
              "  <style>\n",
              "    .colab-df-container {\n",
              "      display:flex;\n",
              "      flex-wrap:wrap;\n",
              "      gap: 12px;\n",
              "    }\n",
              "\n",
              "    .colab-df-convert {\n",
              "      background-color: #E8F0FE;\n",
              "      border: none;\n",
              "      border-radius: 50%;\n",
              "      cursor: pointer;\n",
              "      display: none;\n",
              "      fill: #1967D2;\n",
              "      height: 32px;\n",
              "      padding: 0 0 0 0;\n",
              "      width: 32px;\n",
              "    }\n",
              "\n",
              "    .colab-df-convert:hover {\n",
              "      background-color: #E2EBFA;\n",
              "      box-shadow: 0px 1px 2px rgba(60, 64, 67, 0.3), 0px 1px 3px 1px rgba(60, 64, 67, 0.15);\n",
              "      fill: #174EA6;\n",
              "    }\n",
              "\n",
              "    [theme=dark] .colab-df-convert {\n",
              "      background-color: #3B4455;\n",
              "      fill: #D2E3FC;\n",
              "    }\n",
              "\n",
              "    [theme=dark] .colab-df-convert:hover {\n",
              "      background-color: #434B5C;\n",
              "      box-shadow: 0px 1px 3px 1px rgba(0, 0, 0, 0.15);\n",
              "      filter: drop-shadow(0px 1px 2px rgba(0, 0, 0, 0.3));\n",
              "      fill: #FFFFFF;\n",
              "    }\n",
              "  </style>\n",
              "\n",
              "      <script>\n",
              "        const buttonEl =\n",
              "          document.querySelector('#df-5534edbc-7e66-4bd8-b552-feba8d01f17f button.colab-df-convert');\n",
              "        buttonEl.style.display =\n",
              "          google.colab.kernel.accessAllowed ? 'block' : 'none';\n",
              "\n",
              "        async function convertToInteractive(key) {\n",
              "          const element = document.querySelector('#df-5534edbc-7e66-4bd8-b552-feba8d01f17f');\n",
              "          const dataTable =\n",
              "            await google.colab.kernel.invokeFunction('convertToInteractive',\n",
              "                                                     [key], {});\n",
              "          if (!dataTable) return;\n",
              "\n",
              "          const docLinkHtml = 'Like what you see? Visit the ' +\n",
              "            '<a target=\"_blank\" href=https://colab.research.google.com/notebooks/data_table.ipynb>data table notebook</a>'\n",
              "            + ' to learn more about interactive tables.';\n",
              "          element.innerHTML = '';\n",
              "          dataTable['output_type'] = 'display_data';\n",
              "          await google.colab.output.renderOutput(dataTable, element);\n",
              "          const docLink = document.createElement('div');\n",
              "          docLink.innerHTML = docLinkHtml;\n",
              "          element.appendChild(docLink);\n",
              "        }\n",
              "      </script>\n",
              "    </div>\n",
              "  </div>\n",
              "  "
            ]
          },
          "metadata": {},
          "execution_count": 106
        }
      ],
      "source": [
        "dataframe"
      ]
    },
    {
      "cell_type": "code",
      "execution_count": 107,
      "id": "a7c50c72",
      "metadata": {
        "id": "a7c50c72",
        "outputId": "25d5f2e2-ce68-40c5-f92d-58f2e2e4a2a4",
        "colab": {
          "base_uri": "https://localhost:8080/"
        }
      },
      "outputs": [
        {
          "output_type": "stream",
          "name": "stdout",
          "text": [
            "Total number of samples in the dataset are  120\n",
            "Total number of features in the dataset are  7\n"
          ]
        }
      ],
      "source": [
        "\"\"\"\n",
        "A. Exploratory analysis of the dataset (15 marks)\n",
        "\n",
        "i.   Print number of samples and features in the dataset (2)\n",
        "\n",
        "ii.   Print all the feature names (2)\n",
        "\n",
        "iii.  Write a function to find the class prior probabilities and \n",
        "        print the result for the given dataset. (3)\n",
        "        \n",
        "iv.   Write a function to find the conditional probability \n",
        "        P(Lumbar pain | Nephritis) and print the result. (4)\n",
        "\n",
        "v.   The attribute Temperature is continuous valued attribute.\n",
        "       Write a function to find the conditional probability \n",
        "    P(Temperature pain | Nephritis). State any assumptions you make.(4)\n",
        "\n",
        "\"\"\"\n",
        "\n",
        "#(i)\n",
        "print(\"Total number of samples in the dataset are \", dataframe.shape[0])\n",
        "print(\"Total number of features in the dataset are \", dataframe.shape[1])"
      ]
    },
    {
      "cell_type": "code",
      "execution_count": 108,
      "id": "463bc2de",
      "metadata": {
        "id": "463bc2de",
        "outputId": "e7c38c8f-a087-4d70-9552-05cf0ca7c801",
        "colab": {
          "base_uri": "https://localhost:8080/"
        }
      },
      "outputs": [
        {
          "output_type": "stream",
          "name": "stdout",
          "text": [
            "\n",
            "Feature names are : \n",
            "\n",
            "Column 1 - Temperature\n",
            "Column 2 - Nausea\n",
            "Column 3 - Lumbar pain\n",
            "Column 4 - Continous_need\n",
            "Column 5 - Micturition pains\n",
            "Column 6 - Burning\n",
            "Column 7 - Nephritis\n"
          ]
        }
      ],
      "source": [
        "#(ii) Feature names\n",
        "print(\"\\nFeature names are : \\n\")\n",
        "for i in range(len(dataframe.columns)):\n",
        "    print(f\"Column {i+1} - {dataframe.columns[i]}\")"
      ]
    },
    {
      "cell_type": "code",
      "execution_count": 109,
      "id": "44a243da",
      "metadata": {
        "id": "44a243da",
        "outputId": "5b0dcc6b-7c94-4f36-c4f2-b0dad86c60a6",
        "colab": {
          "base_uri": "https://localhost:8080/"
        }
      },
      "outputs": [
        {
          "output_type": "stream",
          "name": "stdout",
          "text": [
            "Yes Class Prior Probability :  0.4166666666666667\n",
            "No Class Prior Probability :  0.5833333333333334\n"
          ]
        }
      ],
      "source": [
        "#iii.\n",
        "\n",
        "def ClassPriorProb(df):\n",
        "    Nephritis_count = df.groupby('Nephritis').size()\n",
        "    Nephritis_yes = Nephritis_count['yes']\n",
        "    Nephritis_no = Nephritis_count['no']\n",
        "    p_nyes = Nephritis_yes/df.shape[0] \n",
        "    p_nno = Nephritis_no/df.shape[0]\n",
        "    print(\"Yes Class Prior Probability : \", end=\" \")\n",
        "    print(p_nyes)\n",
        "    print(\"No Class Prior Probability : \", end=\" \")\n",
        "    print(p_nno)\n",
        "\n",
        "ClassPriorProb(dataframe)"
      ]
    },
    {
      "cell_type": "code",
      "execution_count": 110,
      "id": "ce2a32b0",
      "metadata": {
        "scrolled": false,
        "id": "ce2a32b0",
        "outputId": "778dcb99-ceb8-4e6f-b90c-c09a5181f09f",
        "colab": {
          "base_uri": "https://localhost:8080/"
        }
      },
      "outputs": [
        {
          "output_type": "stream",
          "name": "stdout",
          "text": [
            "P(Lumbar pain = yes | Nephritis = yes) = 1.0\n",
            "P(Lumbar pain = yes | Nephritis = no) = 0.2857142857142857\n",
            "P(Lumbar pain = no | Nephritis = yes) = 0.0\n",
            "P(Lumbar pain = no | Nephritis = no) = 0.7142857142857143\n"
          ]
        }
      ],
      "source": [
        "#iv.\n",
        "#P(A|B) = P(A n B)/P(B)\n",
        "\n",
        "def ConditionalProb(df):\n",
        "    Pcnt = df.groupby('Nephritis').size()\n",
        "    Pyes = Pcnt['yes']\n",
        "    Pno = Pcnt['no']\n",
        "    LP_count = df.groupby(['Lumbar pain','Nephritis']).size()\n",
        "    # print(LP_count)\n",
        "    # LP_total = df.groupby(['Lumbar pain']).size()\n",
        "    # print(LP_total)\n",
        "    P_LPy_yes = LP_count['yes','yes']\n",
        "    P_LPy_no = LP_count['yes','no']\n",
        "    try:\n",
        "        P_LPn_yes = LP_count['no','yes']\n",
        "    except KeyError:\n",
        "        P_LPn_yes = 0\n",
        "    P_LPn_no = LP_count['no','no']\n",
        "    print(f\"P(Lumbar pain = yes | Nephritis = yes) = {P_LPy_yes/Pyes}\")\n",
        "    print(f\"P(Lumbar pain = yes | Nephritis = no) = {P_LPy_no/Pno}\")\n",
        "    print(f\"P(Lumbar pain = no | Nephritis = yes) = {P_LPn_yes/Pyes}\")\n",
        "    print(f\"P(Lumbar pain = no | Nephritis = no) = {P_LPn_no/Pno}\")\n",
        "    return\n",
        "\n",
        "ConditionalProb(dataframe)"
      ]
    },
    {
      "cell_type": "code",
      "source": [
        "dataframe.head(5)"
      ],
      "metadata": {
        "colab": {
          "base_uri": "https://localhost:8080/",
          "height": 206
        },
        "id": "4tlu4q-P4V6g",
        "outputId": "884b5123-a528-4bb1-c824-82cb75dc9ba6"
      },
      "id": "4tlu4q-P4V6g",
      "execution_count": 111,
      "outputs": [
        {
          "output_type": "execute_result",
          "data": {
            "text/plain": [
              "   Temperature Nausea Lumbar pain Continous_need Micturition pains Burning  \\\n",
              "0         35.5     no         yes             no                no      no   \n",
              "1         35.9     no          no            yes               yes     yes   \n",
              "2         35.9     no         yes             no                no      no   \n",
              "3         36.0     no          no            yes               yes     yes   \n",
              "4         36.0     no         yes             no                no      no   \n",
              "\n",
              "  Nephritis  \n",
              "0        no  \n",
              "1        no  \n",
              "2        no  \n",
              "3        no  \n",
              "4        no  "
            ],
            "text/html": [
              "\n",
              "  <div id=\"df-778ab4f8-842a-4495-8e3b-0c6059ba6472\">\n",
              "    <div class=\"colab-df-container\">\n",
              "      <div>\n",
              "<style scoped>\n",
              "    .dataframe tbody tr th:only-of-type {\n",
              "        vertical-align: middle;\n",
              "    }\n",
              "\n",
              "    .dataframe tbody tr th {\n",
              "        vertical-align: top;\n",
              "    }\n",
              "\n",
              "    .dataframe thead th {\n",
              "        text-align: right;\n",
              "    }\n",
              "</style>\n",
              "<table border=\"1\" class=\"dataframe\">\n",
              "  <thead>\n",
              "    <tr style=\"text-align: right;\">\n",
              "      <th></th>\n",
              "      <th>Temperature</th>\n",
              "      <th>Nausea</th>\n",
              "      <th>Lumbar pain</th>\n",
              "      <th>Continous_need</th>\n",
              "      <th>Micturition pains</th>\n",
              "      <th>Burning</th>\n",
              "      <th>Nephritis</th>\n",
              "    </tr>\n",
              "  </thead>\n",
              "  <tbody>\n",
              "    <tr>\n",
              "      <th>0</th>\n",
              "      <td>35.5</td>\n",
              "      <td>no</td>\n",
              "      <td>yes</td>\n",
              "      <td>no</td>\n",
              "      <td>no</td>\n",
              "      <td>no</td>\n",
              "      <td>no</td>\n",
              "    </tr>\n",
              "    <tr>\n",
              "      <th>1</th>\n",
              "      <td>35.9</td>\n",
              "      <td>no</td>\n",
              "      <td>no</td>\n",
              "      <td>yes</td>\n",
              "      <td>yes</td>\n",
              "      <td>yes</td>\n",
              "      <td>no</td>\n",
              "    </tr>\n",
              "    <tr>\n",
              "      <th>2</th>\n",
              "      <td>35.9</td>\n",
              "      <td>no</td>\n",
              "      <td>yes</td>\n",
              "      <td>no</td>\n",
              "      <td>no</td>\n",
              "      <td>no</td>\n",
              "      <td>no</td>\n",
              "    </tr>\n",
              "    <tr>\n",
              "      <th>3</th>\n",
              "      <td>36.0</td>\n",
              "      <td>no</td>\n",
              "      <td>no</td>\n",
              "      <td>yes</td>\n",
              "      <td>yes</td>\n",
              "      <td>yes</td>\n",
              "      <td>no</td>\n",
              "    </tr>\n",
              "    <tr>\n",
              "      <th>4</th>\n",
              "      <td>36.0</td>\n",
              "      <td>no</td>\n",
              "      <td>yes</td>\n",
              "      <td>no</td>\n",
              "      <td>no</td>\n",
              "      <td>no</td>\n",
              "      <td>no</td>\n",
              "    </tr>\n",
              "  </tbody>\n",
              "</table>\n",
              "</div>\n",
              "      <button class=\"colab-df-convert\" onclick=\"convertToInteractive('df-778ab4f8-842a-4495-8e3b-0c6059ba6472')\"\n",
              "              title=\"Convert this dataframe to an interactive table.\"\n",
              "              style=\"display:none;\">\n",
              "        \n",
              "  <svg xmlns=\"http://www.w3.org/2000/svg\" height=\"24px\"viewBox=\"0 0 24 24\"\n",
              "       width=\"24px\">\n",
              "    <path d=\"M0 0h24v24H0V0z\" fill=\"none\"/>\n",
              "    <path d=\"M18.56 5.44l.94 2.06.94-2.06 2.06-.94-2.06-.94-.94-2.06-.94 2.06-2.06.94zm-11 1L8.5 8.5l.94-2.06 2.06-.94-2.06-.94L8.5 2.5l-.94 2.06-2.06.94zm10 10l.94 2.06.94-2.06 2.06-.94-2.06-.94-.94-2.06-.94 2.06-2.06.94z\"/><path d=\"M17.41 7.96l-1.37-1.37c-.4-.4-.92-.59-1.43-.59-.52 0-1.04.2-1.43.59L10.3 9.45l-7.72 7.72c-.78.78-.78 2.05 0 2.83L4 21.41c.39.39.9.59 1.41.59.51 0 1.02-.2 1.41-.59l7.78-7.78 2.81-2.81c.8-.78.8-2.07 0-2.86zM5.41 20L4 18.59l7.72-7.72 1.47 1.35L5.41 20z\"/>\n",
              "  </svg>\n",
              "      </button>\n",
              "      \n",
              "  <style>\n",
              "    .colab-df-container {\n",
              "      display:flex;\n",
              "      flex-wrap:wrap;\n",
              "      gap: 12px;\n",
              "    }\n",
              "\n",
              "    .colab-df-convert {\n",
              "      background-color: #E8F0FE;\n",
              "      border: none;\n",
              "      border-radius: 50%;\n",
              "      cursor: pointer;\n",
              "      display: none;\n",
              "      fill: #1967D2;\n",
              "      height: 32px;\n",
              "      padding: 0 0 0 0;\n",
              "      width: 32px;\n",
              "    }\n",
              "\n",
              "    .colab-df-convert:hover {\n",
              "      background-color: #E2EBFA;\n",
              "      box-shadow: 0px 1px 2px rgba(60, 64, 67, 0.3), 0px 1px 3px 1px rgba(60, 64, 67, 0.15);\n",
              "      fill: #174EA6;\n",
              "    }\n",
              "\n",
              "    [theme=dark] .colab-df-convert {\n",
              "      background-color: #3B4455;\n",
              "      fill: #D2E3FC;\n",
              "    }\n",
              "\n",
              "    [theme=dark] .colab-df-convert:hover {\n",
              "      background-color: #434B5C;\n",
              "      box-shadow: 0px 1px 3px 1px rgba(0, 0, 0, 0.15);\n",
              "      filter: drop-shadow(0px 1px 2px rgba(0, 0, 0, 0.3));\n",
              "      fill: #FFFFFF;\n",
              "    }\n",
              "  </style>\n",
              "\n",
              "      <script>\n",
              "        const buttonEl =\n",
              "          document.querySelector('#df-778ab4f8-842a-4495-8e3b-0c6059ba6472 button.colab-df-convert');\n",
              "        buttonEl.style.display =\n",
              "          google.colab.kernel.accessAllowed ? 'block' : 'none';\n",
              "\n",
              "        async function convertToInteractive(key) {\n",
              "          const element = document.querySelector('#df-778ab4f8-842a-4495-8e3b-0c6059ba6472');\n",
              "          const dataTable =\n",
              "            await google.colab.kernel.invokeFunction('convertToInteractive',\n",
              "                                                     [key], {});\n",
              "          if (!dataTable) return;\n",
              "\n",
              "          const docLinkHtml = 'Like what you see? Visit the ' +\n",
              "            '<a target=\"_blank\" href=https://colab.research.google.com/notebooks/data_table.ipynb>data table notebook</a>'\n",
              "            + ' to learn more about interactive tables.';\n",
              "          element.innerHTML = '';\n",
              "          dataTable['output_type'] = 'display_data';\n",
              "          await google.colab.output.renderOutput(dataTable, element);\n",
              "          const docLink = document.createElement('div');\n",
              "          docLink.innerHTML = docLinkHtml;\n",
              "          element.appendChild(docLink);\n",
              "        }\n",
              "      </script>\n",
              "    </div>\n",
              "  </div>\n",
              "  "
            ]
          },
          "metadata": {},
          "execution_count": 111
        }
      ]
    },
    {
      "cell_type": "code",
      "execution_count": 112,
      "id": "6964a856",
      "metadata": {
        "id": "6964a856",
        "outputId": "b83b9e19-5a8e-4db6-e9bf-b29ca2631bc7",
        "colab": {
          "base_uri": "https://localhost:8080/"
        }
      },
      "outputs": [
        {
          "output_type": "stream",
          "name": "stdout",
          "text": [
            "P(Temperature = High | Nephritis = yes) = 0.8\n",
            "P(Temperature = High | Nephritis = no) = 0.14285714285714285\n",
            "P(Temperature = Low | Nephritis = yes) = 0.2\n",
            "P(Temperature = Low | Nephritis = no) = 0.8571428571428571 \n",
            "\n",
            "\n"
          ]
        },
        {
          "output_type": "stream",
          "name": "stderr",
          "text": [
            "/usr/local/lib/python3.7/dist-packages/ipykernel_launcher.py:12: SettingWithCopyWarning: \n",
            "A value is trying to be set on a copy of a slice from a DataFrame\n",
            "\n",
            "See the caveats in the documentation: https://pandas.pydata.org/pandas-docs/stable/user_guide/indexing.html#returning-a-view-versus-a-copy\n",
            "  if sys.path[0] == '':\n",
            "/usr/local/lib/python3.7/dist-packages/pandas/core/indexing.py:1732: SettingWithCopyWarning: \n",
            "A value is trying to be set on a copy of a slice from a DataFrame\n",
            "\n",
            "See the caveats in the documentation: https://pandas.pydata.org/pandas-docs/stable/user_guide/indexing.html#returning-a-view-versus-a-copy\n",
            "  self._setitem_single_block(indexer, value, name)\n"
          ]
        }
      ],
      "source": [
        "#v.\n",
        "\n",
        "# v.   The attribute Temperature is continuous valued attribute.\n",
        "#      Write a function to find the conditional probability \n",
        "#      P(Temperature pain | Nephritis). State any assumptions you make.(4)\n",
        "\n",
        "def ConditionalProb2(df):\n",
        "    #Assumption - Temperature < 40 is low and >= 40 is high\n",
        "    df2 = df\n",
        "    for i in range(df2.shape[0]):\n",
        "        if (df2['Temperature'][i] < 40):\n",
        "            df2['Temperature'][i] = 'Low'\n",
        "        else:  \n",
        "            df2['Temperature'][i] = 'High'\n",
        "    \n",
        "    Pcnt = df.groupby('Nephritis').size()\n",
        "    Pyes = Pcnt['yes']\n",
        "    Pno = Pcnt['no']\n",
        "    # print(df2)\n",
        "    T_count = df.groupby(['Temperature','Nephritis']).size()\n",
        "    # print(T_count)\n",
        "    # T_total = df.groupby(['Temperature']).size()\n",
        "    P_TH_yes = T_count['High','yes']\n",
        "    P_TH_no = T_count['High','no']\n",
        "    P_TL_yes = T_count['Low','yes']\n",
        "    P_TL_no = T_count['Low','no']\n",
        "    print(f\"P(Temperature = High | Nephritis = yes) = {P_TH_yes/Pyes}\")\n",
        "    print(f\"P(Temperature = High | Nephritis = no) = {P_TH_no/Pno}\")\n",
        "    print(f\"P(Temperature = Low | Nephritis = yes) = {P_TL_yes/Pyes}\")\n",
        "    print(f\"P(Temperature = Low | Nephritis = no) = {P_TL_no/Pno} \\n\\n\")   \n",
        "    \n",
        "    \n",
        "ConditionalProb2(dataframe)"
      ]
    },
    {
      "cell_type": "code",
      "source": [
        "0.14285714285714285 + 0.8571428571428571"
      ],
      "metadata": {
        "colab": {
          "base_uri": "https://localhost:8080/"
        },
        "id": "X_AvDLi98_H6",
        "outputId": "2c29fc13-2578-4b8c-db60-d040e76d8385"
      },
      "id": "X_AvDLi98_H6",
      "execution_count": 122,
      "outputs": [
        {
          "output_type": "execute_result",
          "data": {
            "text/plain": [
              "1.0"
            ]
          },
          "metadata": {},
          "execution_count": 122
        }
      ]
    },
    {
      "cell_type": "code",
      "execution_count": 123,
      "id": "4ea600fe",
      "metadata": {
        "id": "4ea600fe",
        "outputId": "ea81258c-3407-4c88-98e7-bb443d7d477e",
        "colab": {
          "base_uri": "https://localhost:8080/"
        }
      },
      "outputs": [
        {
          "output_type": "stream",
          "name": "stdout",
          "text": [
            "\n",
            "\n"
          ]
        }
      ],
      "source": [
        "\"\"\"\n",
        "\n",
        "B. Naïve-Bayes : CategoricalNB from scikit-learn  (15 marks)\n",
        "\n",
        "i.  Split the dataset into training and testing (80% and 20%) (3)\n",
        "\n",
        "ii. Do encoding of features or class labels for CategoricalNB. \n",
        "    Print the 5 rows after encoding. (2 marks)\n",
        "    \n",
        "iii.Use the CategoricalNB from scikit-learn for building the Categorical\n",
        "    Naïve-Bayes classifier using the training dataset and print the trained model parameters. (4)\n",
        "    \n",
        "iv. Test the model with test dataset. (2)\n",
        "\n",
        "v.  Print the confusion matrix. (2)\n",
        "\n",
        "vi. Change the following parameters and see for accuracy change.\n",
        "\n",
        "alpha (Laplacian correction value) and min_categories   \n",
        "(minimum no. of categories for each attribute). (2 marks)\n",
        "\n",
        "\"\"\"\n",
        "\n",
        "print(\"\\n\")"
      ]
    },
    {
      "cell_type": "code",
      "execution_count": 124,
      "id": "0b0b6648",
      "metadata": {
        "id": "0b0b6648"
      },
      "outputs": [],
      "source": [
        "from sklearn.naive_bayes import GaussianNB\n",
        "import numpy as np"
      ]
    },
    {
      "cell_type": "code",
      "execution_count": 125,
      "id": "5098fb87",
      "metadata": {
        "id": "5098fb87"
      },
      "outputs": [],
      "source": [
        "# from sklearn.naive_bayes import CategoricalNB"
      ]
    },
    {
      "cell_type": "code",
      "execution_count": 126,
      "id": "f355aa71",
      "metadata": {
        "id": "f355aa71"
      },
      "outputs": [],
      "source": [
        "# help(GaussianNB())"
      ]
    },
    {
      "cell_type": "code",
      "execution_count": 127,
      "id": "8ecb9a11",
      "metadata": {
        "scrolled": true,
        "id": "8ecb9a11"
      },
      "outputs": [],
      "source": [
        "# help(CategoricalNB())"
      ]
    },
    {
      "cell_type": "code",
      "execution_count": 118,
      "id": "d3aa4e7d",
      "metadata": {
        "scrolled": false,
        "id": "d3aa4e7d",
        "outputId": "932b8260-5409-42c4-f914-cc1cee9b1fa3",
        "colab": {
          "base_uri": "https://localhost:8080/"
        }
      },
      "outputs": [
        {
          "output_type": "stream",
          "name": "stdout",
          "text": [
            "First 5 rows : \n",
            "\n",
            "   Temperature_High  Temperature_Low  Nausea_no  Nausea_yes  Lumbar pain_no  \\\n",
            "0                 0                1          1           0               0   \n",
            "1                 0                1          1           0               1   \n",
            "2                 0                1          1           0               0   \n",
            "3                 0                1          1           0               1   \n",
            "4                 0                1          1           0               0   \n",
            "\n",
            "   Lumbar pain_yes  Continous_need_no  Continous_need_yes  \\\n",
            "0                1                  1                   0   \n",
            "1                0                  0                   1   \n",
            "2                1                  1                   0   \n",
            "3                0                  0                   1   \n",
            "4                1                  1                   0   \n",
            "\n",
            "   Micturition pains_no  Micturition pains_yes  Burning_no  Burning_yes  \n",
            "0                     1                      0           1            0  \n",
            "1                     0                      1           0            1  \n",
            "2                     1                      0           1            0  \n",
            "3                     0                      1           0            1  \n",
            "4                     1                      0           1            0  \n",
            "\n",
            "\n",
            "\n",
            "Trained model parameters:\n",
            "\n",
            "The class count is:  [62. 34.]\n",
            "The class prior is:  [0.64583333 0.35416667]\n"
          ]
        }
      ],
      "source": [
        "y = dataframe.Nephritis.values\n",
        "# new_data = dataframe.drop(['Nephritis'],axis = 1)\n",
        "new_data = pd.get_dummies(dataframe.drop(['Nephritis'],axis = 1)) #encoding\n",
        "print(f\"First 5 rows : \\n\\n{new_data.head(5)}\")\n",
        "x = (new_data-np.min(new_data))/(np.max(new_data)-np.min(new_data)).values\n",
        "from sklearn.model_selection import train_test_split\n",
        "x_train,x_test,y_train,y_test = train_test_split(x,y,test_size=0.2,random_state=1)\n",
        "\n",
        "model = GaussianNB()\n",
        "model.fit(x_train, y_train)\n",
        "print(\"\\n\\n\\nTrained model parameters:\")\n",
        "print(\"\\nThe class count is: \",model.class_count_)\n",
        "print(\"The class prior is: \",model.class_prior_)   "
      ]
    },
    {
      "cell_type": "code",
      "execution_count": 119,
      "id": "a3499bdf",
      "metadata": {
        "id": "a3499bdf",
        "outputId": "1d972661-7bb0-4bc0-c662-d467f219e38f",
        "colab": {
          "base_uri": "https://localhost:8080/"
        }
      },
      "outputs": [
        {
          "output_type": "execute_result",
          "data": {
            "text/plain": [
              "GaussianNB()"
            ]
          },
          "metadata": {},
          "execution_count": 119
        }
      ],
      "source": [
        "#test data\n",
        "nb_model = GaussianNB()\n",
        "nb_model.fit(x_test,y_test)"
      ]
    },
    {
      "cell_type": "code",
      "execution_count": 120,
      "id": "26e7813e",
      "metadata": {
        "id": "26e7813e",
        "outputId": "8c4b0a64-f3a8-480a-ad8b-6a7aa4d24801",
        "colab": {
          "base_uri": "https://localhost:8080/"
        }
      },
      "outputs": [
        {
          "output_type": "stream",
          "name": "stdout",
          "text": [
            "[[ 8  0]\n",
            " [ 2 14]]\n"
          ]
        }
      ],
      "source": [
        "#confusion matrix\n",
        "from sklearn.metrics import confusion_matrix\n",
        "y_predicted = model.predict(x_test)\n",
        "cmatrix = confusion_matrix(y_test,y_predicted) \n",
        "print(cmatrix)"
      ]
    },
    {
      "cell_type": "code",
      "execution_count": 121,
      "id": "9b839cd5",
      "metadata": {
        "id": "9b839cd5",
        "outputId": "fcd3ccc7-8e59-4aba-eef4-ac700a2afaea",
        "colab": {
          "base_uri": "https://localhost:8080/"
        }
      },
      "outputs": [
        {
          "output_type": "stream",
          "name": "stdout",
          "text": [
            "The Accuracy of the Naive Bayes classifier is : 0.9166666666666666\n",
            "Hence, this concludes that 91.66666666666666% of samples are classified correctly\n"
          ]
        }
      ],
      "source": [
        "# Report accuracy.\n",
        "accuracy_nb = nb_model.score(x_test,y_test)\n",
        "print(f\"The Accuracy of the Naive Bayes classifier is : {accuracy_nb}\")\n",
        "print(f\"Hence, this concludes that {accuracy_nb*100}% of samples are classified correctly\")"
      ]
    },
    {
      "cell_type": "code",
      "execution_count": 121,
      "id": "375fce81",
      "metadata": {
        "id": "375fce81"
      },
      "outputs": [],
      "source": [
        ""
      ]
    }
  ],
  "metadata": {
    "kernelspec": {
      "display_name": "Python 3",
      "language": "python",
      "name": "python3"
    },
    "language_info": {
      "codemirror_mode": {
        "name": "ipython",
        "version": 3
      },
      "file_extension": ".py",
      "mimetype": "text/x-python",
      "name": "python",
      "nbconvert_exporter": "python",
      "pygments_lexer": "ipython3",
      "version": "3.8.8"
    },
    "colab": {
      "name": "NB_sam_gaussian.ipynb",
      "provenance": [],
      "collapsed_sections": []
    }
  },
  "nbformat": 4,
  "nbformat_minor": 5
}