{
 "cells": [
  {
   "cell_type": "markdown",
   "id": "534f79c7",
   "metadata": {},
   "source": [
    "# PAT 2\n",
    "Instructions\n",
    "\n",
    "· You need to submit the source code along with output (if colab ipynb file; else a separate .py file and output on this word document)\n",
    "\n",
    "· Your file name should be named as 20BRS1001.py or (20BRS1001.ipynb)\n",
    "\n",
    "· You cannot refer any resources on the net\n",
    "\n",
    "· You may refer supporting documents for additional details\n",
    "\n",
    "You need to build a decision tree classifier for the given dataset Nephritis which is used for predicting whether a person is affected by Nephritis of renal pelvis origin based on the following features: Temperature of patient, Occurrence of nausea, Lumbar pain, Continuous need for urination, Micturition pains and Burning.\n",
    "\n",
    "A. Exploratory analysis of the dataset (15 marks)\n",
    "\n",
    "         i.    Print number of samples and features in the dataset (2)\n",
    "\n",
    "         ii.    Print all the feature names (2)\n",
    "\n",
    "         iii.   Find the distribution of the classes and plot it (2)\n",
    "\n",
    "         iv.  Write a function to find the Information gain of the attribute Nausea. Print the result. (5)\n",
    "\n",
    "         v.   The attribute Temperature is continuous valued attribute. How will you find the entropy of this attribute? If you make any assumptions clearly mention here and print the entropy of the Temperature attribute.  (hint : discretize the values) (4)\n",
    "B. Decision-tree model (15 marks)\n",
    "\n",
    "        i.   Split the dataset into training and testing (80% and 20%) (2)\n",
    "\n",
    "        ii.   Use the appropriate scikit-learn model for building the decision tree using the training dataset and print the trained model parameters. (4)\n",
    "\n",
    "                a.  Test the model with test dataset. (3)\n",
    "\n",
    "                b.  Print the confusion matrix. (3)\n",
    "\n",
    "                c.  Try to change the following hyper-parameters of the decision tree model and report the change in the accuracy (3)\n",
    "\n",
    "                     i.      Splitting Criterion from entropy to gini\n",
    "\n",
    "                     ii.      max_depth\n",
    "\n",
    "                     iii.      min_samples_leaf"
   ]
  },
  {
   "cell_type": "code",
   "execution_count": 202,
   "id": "fadb8ab8",
   "metadata": {},
   "outputs": [],
   "source": [
    "import pandas as pd\n",
    "import numpy as np\n",
    "from sklearn.tree import DecisionTreeClassifier\n",
    "from sklearn import tree"
   ]
  },
  {
   "cell_type": "code",
   "execution_count": 203,
   "id": "67b778b3",
   "metadata": {},
   "outputs": [
    {
     "name": "stdout",
     "output_type": "stream",
     "text": [
      "   Temperature Nausea Lumbar pain Continous_need Micturition pains Burning  \\\n",
      "0         35.5     no         yes             no                no      no   \n",
      "1         35.9     no          no            yes               yes     yes   \n",
      "2         35.9     no         yes             no                no      no   \n",
      "3         36.0     no          no            yes               yes     yes   \n",
      "4         36.0     no         yes             no                no      no   \n",
      "\n",
      "  Nephritis  \n",
      "0        no  \n",
      "1        no  \n",
      "2        no  \n",
      "3        no  \n",
      "4        no  \n"
     ]
    }
   ],
   "source": [
    "col_names = ['Temperature','Nausea','Lumbar pain','Continous_need','Micturition pains','Burning','Nephritis']\n",
    "dataset = pd.read_csv(\"Nephritis2.csv\", header=None, names=col_names)\n",
    "print(dataset.head(5))"
   ]
  },
  {
   "cell_type": "markdown",
   "id": "4310adbe",
   "metadata": {},
   "source": [
    "#### String to encoded values"
   ]
  },
  {
   "cell_type": "code",
   "execution_count": 204,
   "id": "3244f872",
   "metadata": {},
   "outputs": [],
   "source": [
    "replacement = pd.get_dummies(dataset['Nephritis'])\n",
    "replaced = pd.concat([dataset, replacement], axis = 1)\n",
    "dataset = replaced.drop(['Nephritis', 'no'], axis = 1)\n",
    "dataset.rename(columns = {'yes':'Nephritis'}, inplace = True)"
   ]
  },
  {
   "cell_type": "code",
   "execution_count": 205,
   "id": "5d30bfce",
   "metadata": {},
   "outputs": [],
   "source": [
    "replacement = pd.get_dummies(dataset.Nausea)\n",
    "replaced = pd.concat([dataset, replacement], axis = 1)\n",
    "dataset = replaced.drop(['Nausea', 'no'], axis = 1)\n",
    "dataset.rename(columns = {'yes':'Nausea'}, inplace = True)"
   ]
  },
  {
   "cell_type": "code",
   "execution_count": 206,
   "id": "a1e69cf3",
   "metadata": {},
   "outputs": [],
   "source": [
    "replacement = pd.get_dummies(dataset['Lumbar pain'])\n",
    "replaced = pd.concat([dataset, replacement], axis = 1)\n",
    "dataset = replaced.drop(['Lumbar pain', 'no'], axis = 1)\n",
    "dataset.rename(columns = {'yes':'Lumbar pain'}, inplace = True)"
   ]
  },
  {
   "cell_type": "code",
   "execution_count": 207,
   "id": "dc1bd7d4",
   "metadata": {},
   "outputs": [],
   "source": [
    "replacement = pd.get_dummies(dataset['Continous_need'])\n",
    "replaced = pd.concat([dataset, replacement], axis = 1)\n",
    "dataset = replaced.drop(['Continous_need', 'no'], axis = 1)\n",
    "dataset.rename(columns = {'yes':'Continous_need'}, inplace = True)"
   ]
  },
  {
   "cell_type": "code",
   "execution_count": 208,
   "id": "7387942c",
   "metadata": {},
   "outputs": [],
   "source": [
    "replacement = pd.get_dummies(dataset['Micturition pains'])\n",
    "replaced = pd.concat([dataset, replacement], axis = 1)\n",
    "dataset = replaced.drop(['Micturition pains', 'no'], axis = 1)\n",
    "dataset.rename(columns = {'yes':'Micturition pains'}, inplace = True)"
   ]
  },
  {
   "cell_type": "code",
   "execution_count": 209,
   "id": "97790dca",
   "metadata": {},
   "outputs": [],
   "source": [
    "replacement = pd.get_dummies(dataset['Burning'])\n",
    "replaced = pd.concat([dataset, replacement], axis = 1)\n",
    "dataset = replaced.drop(['Burning', 'no'], axis = 1)\n",
    "dataset.rename(columns = {'yes':'Burning'}, inplace = True)"
   ]
  },
  {
   "cell_type": "code",
   "execution_count": 210,
   "id": "6d857e9e",
   "metadata": {},
   "outputs": [
    {
     "name": "stdout",
     "output_type": "stream",
     "text": [
      "     Temperature  Nephritis  Nausea  Lumbar pain  Continous_need  \\\n",
      "0           35.5          0       0            1               0   \n",
      "1           35.9          0       0            0               1   \n",
      "2           35.9          0       0            1               0   \n",
      "3           36.0          0       0            0               1   \n",
      "4           36.0          0       0            1               0   \n",
      "..           ...        ...     ...          ...             ...   \n",
      "115         41.4          1       0            1               1   \n",
      "116         41.5          0       0            0               0   \n",
      "117         41.5          1       1            1               0   \n",
      "118         41.5          1       0            1               1   \n",
      "119         41.5          1       0            1               1   \n",
      "\n",
      "     Micturition pains  Burning  \n",
      "0                    0        0  \n",
      "1                    1        1  \n",
      "2                    0        0  \n",
      "3                    1        1  \n",
      "4                    0        0  \n",
      "..                 ...      ...  \n",
      "115                  0        1  \n",
      "116                  0        0  \n",
      "117                  1        0  \n",
      "118                  0        1  \n",
      "119                  0        1  \n",
      "\n",
      "[120 rows x 7 columns]\n"
     ]
    }
   ],
   "source": [
    "print(dataset)"
   ]
  },
  {
   "cell_type": "markdown",
   "id": "609c31cd",
   "metadata": {},
   "source": [
    "## A. Exploratory analysis of the dataset (15 marks)\n",
    "\n",
    "   ###  i.    Print number of samples and features in the dataset"
   ]
  },
  {
   "cell_type": "code",
   "execution_count": 211,
   "id": "c7b82889",
   "metadata": {},
   "outputs": [
    {
     "name": "stdout",
     "output_type": "stream",
     "text": [
      "No of rows: 120\n",
      "No of columns: 7\n",
      "No of features: 6\n"
     ]
    }
   ],
   "source": [
    "print('No of rows:',dataset.shape[0])\n",
    "print('No of columns:',dataset.shape[1])\n",
    "print('No of features:',dataset.shape[1] - 1)"
   ]
  },
  {
   "cell_type": "markdown",
   "id": "bf82549a",
   "metadata": {},
   "source": [
    "### ii.    Print all the feature names"
   ]
  },
  {
   "cell_type": "code",
   "execution_count": 212,
   "id": "435c0b44",
   "metadata": {},
   "outputs": [
    {
     "data": {
      "text/plain": [
       "Index(['Temperature', 'Nephritis', 'Nausea', 'Lumbar pain', 'Continous_need',\n",
       "       'Micturition pains', 'Burning'],\n",
       "      dtype='object')"
      ]
     },
     "execution_count": 212,
     "metadata": {},
     "output_type": "execute_result"
    }
   ],
   "source": [
    "dataset.columns"
   ]
  },
  {
   "cell_type": "markdown",
   "id": "1d597c51",
   "metadata": {},
   "source": [
    "### iii. Find the distribution of the classes and plot it "
   ]
  },
  {
   "cell_type": "code",
   "execution_count": 185,
   "id": "dd20cfd9",
   "metadata": {},
   "outputs": [
    {
     "name": "stdout",
     "output_type": "stream",
     "text": [
      "50\n",
      "70\n"
     ]
    },
    {
     "data": {
      "text/plain": [
       "Text(0, 0.5, 'Number')"
      ]
     },
     "execution_count": 185,
     "metadata": {},
     "output_type": "execute_result"
    },
    {
     "data": {
      "image/png": "[encoded data removed]",
      "text/plain": [
       "<Figure size 432x288 with 1 Axes>"
      ]
     },
     "metadata": {
      "needs_background": "light"
     },
     "output_type": "display_data"
    }
   ],
   "source": [
    "import matplotlib.pyplot as plt\n",
    "Nephritis = dataset.groupby('Nephritis').size()\n",
    "neph_Y=Nephritis[1]\n",
    "print(neph_Y)\n",
    "neph_N=Nephritis [0]\n",
    "print(neph_N)\n",
    "x=[\"Nephritis_Yes\",\"Nephritis_No\"]\n",
    "y=[neph_Y,neph_N]\n",
    "plt.bar(x,y)\n",
    "plt.xlabel(\"Nephristis\")\n",
    "plt.ylabel(\"Number\")"
   ]
  },
  {
   "cell_type": "code",
   "execution_count": 186,
   "id": "b4a3cb7f",
   "metadata": {},
   "outputs": [
    {
     "data": {
      "text/plain": [
       "array([[<AxesSubplot:title={'center':'Temperature'}>,\n",
       "        <AxesSubplot:title={'center':'Nausea'}>,\n",
       "        <AxesSubplot:title={'center':'Lumbar pain'}>],\n",
       "       [<AxesSubplot:title={'center':'Continous_need'}>,\n",
       "        <AxesSubplot:title={'center':'Micturition pains'}>,\n",
       "        <AxesSubplot:title={'center':'Burning'}>],\n",
       "       [<AxesSubplot:title={'center':'Nephritis'}>, <AxesSubplot:>,\n",
       "        <AxesSubplot:>]], dtype=object)"
      ]
     },
     "execution_count": 186,
     "metadata": {},
     "output_type": "execute_result"
    },
    {
     "data": {
      "image/png": "[encoded data removed]",
      "text/plain": [
       "<Figure size 1152x1440 with 9 Axes>"
      ]
     },
     "metadata": {
      "needs_background": "light"
     },
     "output_type": "display_data"
    }
   ],
   "source": [
    "dataset_num = dataset[['Temperature','Nausea','Lumbar pain','Continous_need','Micturition pains','Burning','Nephritis']]\n",
    "dataset_num.hist(figsize=(16, 20), bins=50, xlabelsize=10, ylabelsize=10)"
   ]
  },
  {
   "cell_type": "markdown",
   "id": "5b2059e6",
   "metadata": {},
   "source": [
    "### iv.  Write a function to find the Information gain of the attribute Nausea. Print the result."
   ]
  },
  {
   "cell_type": "code",
   "execution_count": 187,
   "id": "74cdba5b",
   "metadata": {},
   "outputs": [
    {
     "name": "stdout",
     "output_type": "stream",
     "text": [
      "0.0\n",
      "Info gain:  0.0\n",
      "0.0\n",
      "Info gain:  0.0\n"
     ]
    }
   ],
   "source": [
    "def calc_total_entropy(train_data, label, class_list):\n",
    "    total_row = train_data.shape[0] #the total size of the dataset\n",
    "    total_entr = 0\n",
    "    \n",
    "    for c in class_list: # for each class in the label\n",
    "        total_class_count = train_data[train_data[label] == c].shape[0] #number of the class\n",
    "        total_class_entr = - (total_class_count/total_row)*np.log2((total_class_count/total_row) + 0.00001) #entropy of the class\n",
    "        total_entr += total_class_entr #adding the class entropy to the total entropy of the dataset        \n",
    "    # print(\"Entropy before splitting \")\n",
    "    print(total_entr)\n",
    "    return total_entr\n",
    "\n",
    "def calc_entropy(feature_value_data, label, class_list):\n",
    "    class_count = feature_value_data.shape[0]\n",
    "    entropy = 0\n",
    "    \n",
    "    for c in class_list:\n",
    "        label_class_count = feature_value_data[feature_value_data[label] == c].shape[0] #row count of class c \n",
    "        \n",
    "        entropy_class = 0\n",
    "        if label_class_count != 0:\n",
    "            probability_class = label_class_count/class_count #probability of the class\n",
    "            entropy_class = - probability_class * np.log2(probability_class  + 0.00001)  #entropy\n",
    "        entropy += entropy_class\n",
    "    return entropy\n",
    "\n",
    "def calc_info_gain(feature_name, train_data, label, class_list):\n",
    "    feature_value_list = train_data[feature_name].unique() #unqiue values of the feature\n",
    "    total_row = train_data.shape[0]\n",
    "    feature_info = 0.0\n",
    "    \n",
    "    for feature_value in feature_value_list: #all possible values of a feature\n",
    "        feature_value_data = train_data[train_data[feature_name] == feature_value] #filtering rows with that feature_value\n",
    "        feature_value_count = feature_value_data.shape[0]\n",
    "        feature_value_entropy = calc_entropy(feature_value_data, label, class_list) #calculcating entropy for the feature value\n",
    "        feature_value_probability = feature_value_count/total_row\n",
    "        feature_info += feature_value_probability * feature_value_entropy #calculating information of the feature value\n",
    "        print(\"Info gain: \", calc_total_entropy(train_data, label, class_list) - feature_info) #calculating information gain by subtracting\n",
    "\n",
    "calc_info_gain('Nausea', dataset, 'Nephritis', col_names)\n"
   ]
  },
  {
   "cell_type": "markdown",
   "id": "09bfd3b5",
   "metadata": {},
   "source": [
    "### v. The attribute Temperature is continuous valued attribute. How will you find the entropy of this attribute? If you make any assumptions clearly mention here and print the entropy of the Temperature attribute. (hint : discretize the values)"
   ]
  },
  {
   "cell_type": "code",
   "execution_count": 213,
   "id": "34995659",
   "metadata": {},
   "outputs": [
    {
     "name": "stdout",
     "output_type": "stream",
     "text": [
      "[array([35.5, 35.9, 36. , 36.2, 36.3, 36.6, 36.7, 36.8, 36.9, 37. , 37.1,\n",
      "       37.2, 37.3, 37.4, 37.5, 37.6, 37.7, 37.8, 37.9, 38. , 38.1, 38.3,\n",
      "       38.5, 38.7, 38.9, 39. , 39.4, 39.7, 40. , 40.1, 40.2, 40.3, 40.4,\n",
      "       40.5, 40.6, 40.7, 40.8, 40.9, 41. , 41.1, 41.2, 41.3, 41.4, 41.5])]\n",
      "\n",
      "\n",
      "Temperature discrete values\n",
      "      Nephritis  35.5  35.9  36.0  36.2  36.3  36.6  36.7  36.8  36.9  ...  \\\n",
      "0            0   1.0   0.0   0.0   0.0   0.0   0.0   0.0   0.0   0.0  ...   \n",
      "1            0   0.0   1.0   0.0   0.0   0.0   0.0   0.0   0.0   0.0  ...   \n",
      "2            0   0.0   1.0   0.0   0.0   0.0   0.0   0.0   0.0   0.0  ...   \n",
      "3            0   0.0   0.0   1.0   0.0   0.0   0.0   0.0   0.0   0.0  ...   \n",
      "4            0   0.0   0.0   1.0   0.0   0.0   0.0   0.0   0.0   0.0  ...   \n",
      "..         ...   ...   ...   ...   ...   ...   ...   ...   ...   ...  ...   \n",
      "115          1   0.0   0.0   0.0   0.0   0.0   0.0   0.0   0.0   0.0  ...   \n",
      "116          0   0.0   0.0   0.0   0.0   0.0   0.0   0.0   0.0   0.0  ...   \n",
      "117          1   0.0   0.0   0.0   0.0   0.0   0.0   0.0   0.0   0.0  ...   \n",
      "118          1   0.0   0.0   0.0   0.0   0.0   0.0   0.0   0.0   0.0  ...   \n",
      "119          1   0.0   0.0   0.0   0.0   0.0   0.0   0.0   0.0   0.0  ...   \n",
      "\n",
      "     40.6  40.7  40.8  40.9  41.0  41.1  41.2  41.3  41.4  41.5  \n",
      "0     0.0   0.0   0.0   0.0   0.0   0.0   0.0   0.0   0.0   0.0  \n",
      "1     0.0   0.0   0.0   0.0   0.0   0.0   0.0   0.0   0.0   0.0  \n",
      "2     0.0   0.0   0.0   0.0   0.0   0.0   0.0   0.0   0.0   0.0  \n",
      "3     0.0   0.0   0.0   0.0   0.0   0.0   0.0   0.0   0.0   0.0  \n",
      "4     0.0   0.0   0.0   0.0   0.0   0.0   0.0   0.0   0.0   0.0  \n",
      "..    ...   ...   ...   ...   ...   ...   ...   ...   ...   ...  \n",
      "115   0.0   0.0   0.0   0.0   0.0   0.0   0.0   0.0   1.0   0.0  \n",
      "116   0.0   0.0   0.0   0.0   0.0   0.0   0.0   0.0   0.0   1.0  \n",
      "117   0.0   0.0   0.0   0.0   0.0   0.0   0.0   0.0   0.0   1.0  \n",
      "118   0.0   0.0   0.0   0.0   0.0   0.0   0.0   0.0   0.0   1.0  \n",
      "119   0.0   0.0   0.0   0.0   0.0   0.0   0.0   0.0   0.0   1.0  \n",
      "\n",
      "[120 rows x 45 columns]\n"
     ]
    },
    {
     "ename": "AttributeError",
     "evalue": "'DataFrame' object has no attribute 'unique'",
     "output_type": "error",
     "traceback": [
      "\u001b[1;31m---------------------------------------------------------------------------\u001b[0m",
      "\u001b[1;31mAttributeError\u001b[0m                            Traceback (most recent call last)",
      "Input \u001b[1;32mIn [213]\u001b[0m, in \u001b[0;36m<cell line: 27>\u001b[1;34m()\u001b[0m\n\u001b[0;32m     22\u001b[0m \u001b[38;5;28mprint\u001b[39m(\u001b[38;5;124m\"\u001b[39m\u001b[38;5;130;01m\\n\u001b[39;00m\u001b[38;5;130;01m\\n\u001b[39;00m\u001b[38;5;124mTemperature discrete values\u001b[39m\u001b[38;5;130;01m\\n\u001b[39;00m\u001b[38;5;124m\"\u001b[39m,dt3)\n\u001b[0;32m     23\u001b[0m cols_name \u001b[38;5;241m=\u001b[39m [\u001b[38;5;124m'\u001b[39m\u001b[38;5;124mNephritis\u001b[39m\u001b[38;5;124m'\u001b[39m, \u001b[38;5;241m35.5\u001b[39m, \u001b[38;5;241m35.9\u001b[39m, \u001b[38;5;241m36.\u001b[39m , \u001b[38;5;241m36.2\u001b[39m, \u001b[38;5;241m36.3\u001b[39m, \u001b[38;5;241m36.6\u001b[39m, \u001b[38;5;241m36.7\u001b[39m, \u001b[38;5;241m36.8\u001b[39m, \u001b[38;5;241m36.9\u001b[39m, \u001b[38;5;241m37.\u001b[39m , \u001b[38;5;241m37.1\u001b[39m,\n\u001b[0;32m     24\u001b[0m        \u001b[38;5;241m37.2\u001b[39m, \u001b[38;5;241m37.3\u001b[39m, \u001b[38;5;241m37.4\u001b[39m, \u001b[38;5;241m37.5\u001b[39m, \u001b[38;5;241m37.6\u001b[39m, \u001b[38;5;241m37.7\u001b[39m, \u001b[38;5;241m37.8\u001b[39m, \u001b[38;5;241m37.9\u001b[39m, \u001b[38;5;241m38.\u001b[39m , \u001b[38;5;241m38.1\u001b[39m, \u001b[38;5;241m38.3\u001b[39m,\n\u001b[0;32m     25\u001b[0m        \u001b[38;5;241m38.5\u001b[39m, \u001b[38;5;241m38.7\u001b[39m, \u001b[38;5;241m38.9\u001b[39m, \u001b[38;5;241m39.\u001b[39m , \u001b[38;5;241m39.4\u001b[39m, \u001b[38;5;241m39.7\u001b[39m, \u001b[38;5;241m40.\u001b[39m , \u001b[38;5;241m40.1\u001b[39m, \u001b[38;5;241m40.2\u001b[39m, \u001b[38;5;241m40.3\u001b[39m, \u001b[38;5;241m40.4\u001b[39m,\n\u001b[0;32m     26\u001b[0m        \u001b[38;5;241m40.5\u001b[39m, \u001b[38;5;241m40.6\u001b[39m, \u001b[38;5;241m40.7\u001b[39m, \u001b[38;5;241m40.8\u001b[39m, \u001b[38;5;241m40.9\u001b[39m, \u001b[38;5;241m41.\u001b[39m , \u001b[38;5;241m41.1\u001b[39m, \u001b[38;5;241m41.2\u001b[39m, \u001b[38;5;241m41.3\u001b[39m, \u001b[38;5;241m41.4\u001b[39m, \u001b[38;5;241m41.5\u001b[39m]\n\u001b[1;32m---> 27\u001b[0m \u001b[43mcalc_info_gain\u001b[49m\u001b[43m(\u001b[49m\u001b[43mcols\u001b[49m\u001b[43m,\u001b[49m\u001b[43m \u001b[49m\u001b[43mdt3\u001b[49m\u001b[43m,\u001b[49m\u001b[43m \u001b[49m\u001b[38;5;124;43m'\u001b[39;49m\u001b[38;5;124;43mNephritis\u001b[39;49m\u001b[38;5;124;43m'\u001b[39;49m\u001b[43m,\u001b[49m\u001b[43m \u001b[49m\u001b[43mcols_name\u001b[49m\u001b[43m)\u001b[49m\n",
      "Input \u001b[1;32mIn [187]\u001b[0m, in \u001b[0;36mcalc_info_gain\u001b[1;34m(feature_name, train_data, label, class_list)\u001b[0m\n\u001b[0;32m     27\u001b[0m \u001b[38;5;28;01mdef\u001b[39;00m \u001b[38;5;21mcalc_info_gain\u001b[39m(feature_name, train_data, label, class_list):\n\u001b[1;32m---> 28\u001b[0m     feature_value_list \u001b[38;5;241m=\u001b[39m \u001b[43mtrain_data\u001b[49m\u001b[43m[\u001b[49m\u001b[43mfeature_name\u001b[49m\u001b[43m]\u001b[49m\u001b[38;5;241;43m.\u001b[39;49m\u001b[43munique\u001b[49m() \u001b[38;5;66;03m#unqiue values of the feature\u001b[39;00m\n\u001b[0;32m     29\u001b[0m     total_row \u001b[38;5;241m=\u001b[39m train_data\u001b[38;5;241m.\u001b[39mshape[\u001b[38;5;241m0\u001b[39m]\n\u001b[0;32m     30\u001b[0m     feature_info \u001b[38;5;241m=\u001b[39m \u001b[38;5;241m0.0\u001b[39m\n",
      "File \u001b[1;32m~\\AppData\\Roaming\\Python\\Python310\\site-packages\\pandas\\core\\generic.py:5575\u001b[0m, in \u001b[0;36mNDFrame.__getattr__\u001b[1;34m(self, name)\u001b[0m\n\u001b[0;32m   5568\u001b[0m \u001b[38;5;28;01mif\u001b[39;00m (\n\u001b[0;32m   5569\u001b[0m     name \u001b[38;5;129;01mnot\u001b[39;00m \u001b[38;5;129;01min\u001b[39;00m \u001b[38;5;28mself\u001b[39m\u001b[38;5;241m.\u001b[39m_internal_names_set\n\u001b[0;32m   5570\u001b[0m     \u001b[38;5;129;01mand\u001b[39;00m name \u001b[38;5;129;01mnot\u001b[39;00m \u001b[38;5;129;01min\u001b[39;00m \u001b[38;5;28mself\u001b[39m\u001b[38;5;241m.\u001b[39m_metadata\n\u001b[0;32m   5571\u001b[0m     \u001b[38;5;129;01mand\u001b[39;00m name \u001b[38;5;129;01mnot\u001b[39;00m \u001b[38;5;129;01min\u001b[39;00m \u001b[38;5;28mself\u001b[39m\u001b[38;5;241m.\u001b[39m_accessors\n\u001b[0;32m   5572\u001b[0m     \u001b[38;5;129;01mand\u001b[39;00m \u001b[38;5;28mself\u001b[39m\u001b[38;5;241m.\u001b[39m_info_axis\u001b[38;5;241m.\u001b[39m_can_hold_identifiers_and_holds_name(name)\n\u001b[0;32m   5573\u001b[0m ):\n\u001b[0;32m   5574\u001b[0m     \u001b[38;5;28;01mreturn\u001b[39;00m \u001b[38;5;28mself\u001b[39m[name]\n\u001b[1;32m-> 5575\u001b[0m \u001b[38;5;28;01mreturn\u001b[39;00m \u001b[38;5;28;43mobject\u001b[39;49m\u001b[38;5;241;43m.\u001b[39;49m\u001b[38;5;21;43m__getattribute__\u001b[39;49m\u001b[43m(\u001b[49m\u001b[38;5;28;43mself\u001b[39;49m\u001b[43m,\u001b[49m\u001b[43m \u001b[49m\u001b[43mname\u001b[49m\u001b[43m)\u001b[49m\n",
      "\u001b[1;31mAttributeError\u001b[0m: 'DataFrame' object has no attribute 'unique'"
     ]
    }
   ],
   "source": [
    "\"\"\" \n",
    "    \n",
    "    Discretizing values of Temperature\n",
    "    \n",
    "\"\"\"\n",
    "\n",
    "feature_cols = ['Temperature']\n",
    "\n",
    "X = dt[feature_cols] # Features\n",
    "y = dt.Nephritis # Target variable\n",
    "# print(\"X\\n\", X)\n",
    "feature_array = ohe.fit_transform(dt[['Temperature']])\n",
    "feature_labels = ohe.categories_\n",
    "print(feature_labels)\n",
    "# Creating final dataframe\n",
    "cols = [35.5, 35.9, 36. , 36.2, 36.3, 36.6, 36.7, 36.8, 36.9, 37. , 37.1,\n",
    "       37.2, 37.3, 37.4, 37.5, 37.6, 37.7, 37.8, 37.9, 38. , 38.1, 38.3,\n",
    "       38.5, 38.7, 38.9, 39. , 39.4, 39.7, 40. , 40.1, 40.2, 40.3, 40.4,\n",
    "       40.5, 40.6, 40.7, 40.8, 40.9, 41. , 41.1, 41.2, 41.3, 41.4, 41.5]\n",
    "dt2 = pd.DataFrame(feature_array, columns = cols)\n",
    "dt3 = pd.concat([dataset['Nephritis'], dt2], axis = 1)\n",
    "print(\"\\n\\nTemperature discrete values\\n\",dt3)\n",
    "cols_name = ['Nephritis', 35.5, 35.9, 36. , 36.2, 36.3, 36.6, 36.7, 36.8, 36.9, 37. , 37.1,\n",
    "       37.2, 37.3, 37.4, 37.5, 37.6, 37.7, 37.8, 37.9, 38. , 38.1, 38.3,\n",
    "       38.5, 38.7, 38.9, 39. , 39.4, 39.7, 40. , 40.1, 40.2, 40.3, 40.4,\n",
    "       40.5, 40.6, 40.7, 40.8, 40.9, 41. , 41.1, 41.2, 41.3, 41.4, 41.5]\n",
    "calc_info_gain(cols, dt3, 'Nephritis', cols_name)"
   ]
  },
  {
   "cell_type": "markdown",
   "id": "fff3ca45",
   "metadata": {},
   "source": [
    "## B. Decision-tree model (15 marks) \n",
    "  ### i.   Split the dataset into training and testing (80% and 20%)"
   ]
  },
  {
   "cell_type": "code",
   "execution_count": 189,
   "id": "d17cbada",
   "metadata": {},
   "outputs": [],
   "source": [
    "from sklearn.model_selection import train_test_split\n",
    "x_train, x_test, y_train, y_test = train_test_split(dataset, y, test_size=0.2, random_state=42)"
   ]
  },
  {
   "cell_type": "markdown",
   "id": "57d82a82",
   "metadata": {},
   "source": [
    "### ii.   Use the appropriate scikit-learn model for building the decision tree using the training dataset and print the trained model parameters.\n",
    "\n",
    "  ### a.  Test the model with test dataset.           "
   ]
  },
  {
   "cell_type": "code",
   "execution_count": 190,
   "id": "5c566e4b",
   "metadata": {},
   "outputs": [
    {
     "name": "stdout",
     "output_type": "stream",
     "text": [
      "Model Parameters:  DecisionTreeClassifier(criterion='entropy', max_depth=3, random_state=42)\n",
      "['no' 'no' 'no' 'no' 'no' 'yes' 'no' 'no' 'no' 'no' 'no' 'yes' 'no' 'no'\n",
      " 'yes' 'yes' 'yes' 'no' 'yes' 'yes' 'yes' 'no' 'no' 'yes']\n",
      "44      no\n",
      "47      no\n",
      "4       no\n",
      "55      no\n",
      "26      no\n",
      "64     yes\n",
      "73      no\n",
      "10      no\n",
      "40      no\n",
      "107     no\n",
      "18      no\n",
      "62     yes\n",
      "11      no\n",
      "36      no\n",
      "89     yes\n",
      "91     yes\n",
      "109    yes\n",
      "0       no\n",
      "88     yes\n",
      "104    yes\n",
      "65     yes\n",
      "45      no\n",
      "31      no\n",
      "70     yes\n",
      "Name: Nephritis, dtype: object\n",
      "1.0\n"
     ]
    }
   ],
   "source": [
    "# print(X, y)\n",
    "model_dec = DecisionTreeClassifier(max_depth = 3, random_state = 42, criterion = 'entropy')\n",
    "print(\"Model Parameters: \",model_dec)\n",
    "# Train Decision Tree Classifer\n",
    "model_dec = model_dec.fit(x_train,y_train)\n",
    "\n",
    "#Predict the response for test dataset\n",
    "y_pred = model_dec.predict(x_test)\n",
    "\n",
    "print(y_pred)\n",
    "print(y_test)\n",
    "\n",
    "accuracy=model_dec.score(x_test,y_test)\n",
    "print(accuracy)"
   ]
  },
  {
   "cell_type": "markdown",
   "id": "544a6d59",
   "metadata": {},
   "source": [
    "###  b.  Print the confusion matrix."
   ]
  },
  {
   "cell_type": "code",
   "execution_count": 191,
   "id": "f937a0dc",
   "metadata": {},
   "outputs": [
    {
     "name": "stdout",
     "output_type": "stream",
     "text": [
      "\n",
      "Confusion Matrix\n",
      "[[15  0]\n",
      " [ 0  9]]\n"
     ]
    }
   ],
   "source": [
    "from sklearn.metrics import confusion_matrix\n",
    "print(\"\\nConfusion Matrix\")\n",
    "print(confusion_matrix(y_test, y_pred))"
   ]
  },
  {
   "cell_type": "code",
   "execution_count": 192,
   "id": "7ec05513",
   "metadata": {},
   "outputs": [
    {
     "name": "stdout",
     "output_type": "stream",
     "text": [
      "|--- feature_1 <= 0.50\n",
      "|   |--- class: no\n",
      "|--- feature_1 >  0.50\n",
      "|   |--- class: yes\n",
      "\n"
     ]
    }
   ],
   "source": [
    "from sklearn.tree import export_text\n",
    "text_representation = export_text(model_dec)\n",
    "print(text_representation)"
   ]
  },
  {
   "cell_type": "markdown",
   "id": "7db2bea6",
   "metadata": {},
   "source": [
    "### c.  Try to change the following hyper-parameters of the decision tree model and report the change in the accuracy (3)\n",
    "\n",
    "                 i.      Splitting Criterion from entropy to gini\n",
    "\n",
    "                 ii.      max_depth\n",
    "\n",
    "                 iii.      min_samples_leaf"
   ]
  },
  {
   "cell_type": "code",
   "execution_count": 193,
   "id": "aff2a9bf",
   "metadata": {},
   "outputs": [
    {
     "name": "stdout",
     "output_type": "stream",
     "text": [
      "Model Parameters:  DecisionTreeClassifier(max_depth=5, min_samples_leaf=3, random_state=42)\n",
      "['no' 'no' 'no' 'no' 'no' 'yes' 'no' 'no' 'no' 'no' 'no' 'yes' 'no' 'no'\n",
      " 'yes' 'yes' 'yes' 'no' 'yes' 'yes' 'yes' 'no' 'no' 'yes']\n",
      "44      no\n",
      "47      no\n",
      "4       no\n",
      "55      no\n",
      "26      no\n",
      "64     yes\n",
      "73      no\n",
      "10      no\n",
      "40      no\n",
      "107     no\n",
      "18      no\n",
      "62     yes\n",
      "11      no\n",
      "36      no\n",
      "89     yes\n",
      "91     yes\n",
      "109    yes\n",
      "0       no\n",
      "88     yes\n",
      "104    yes\n",
      "65     yes\n",
      "45      no\n",
      "31      no\n",
      "70     yes\n",
      "Name: Nephritis, dtype: object\n",
      "1.0\n"
     ]
    }
   ],
   "source": [
    "# max depth changed from 3 to 5, criterion changed from entropy to gini, min_samples_leaf is 1 by deafault, changed to 3\n",
    "model_dec2 = DecisionTreeClassifier(max_depth = 5, random_state = 42, criterion = 'gini', min_samples_leaf = 3) \n",
    "print(\"Model Parameters: \",model_dec2)\n",
    "# Train Decision Tree Classifer\n",
    "model_dec2 = model_dec2.fit(x_train,y_train)\n",
    "\n",
    "#Predict the response for test dataset\n",
    "y_pred = model_dec2.predict(x_test)\n",
    "\n",
    "print(y_pred)\n",
    "print(y_test)\n",
    "\n",
    "accuracy=model_dec2.score(x_test,y_test)\n",
    "print(accuracy)"
   ]
  }
 ],
 "metadata": {
  "kernelspec": {
   "display_name": "Python 3 (ipykernel)",
   "language": "python",
   "name": "python3"
  },
  "language_info": {
   "codemirror_mode": {
    "name": "ipython",
    "version": 3
   },
   "file_extension": ".py",
   "mimetype": "text/x-python",
   "name": "python",
   "nbconvert_exporter": "python",
   "pygments_lexer": "ipython3",
   "version": "3.10.4"
  }
 },
 "nbformat": 4,
 "nbformat_minor": 5
}
