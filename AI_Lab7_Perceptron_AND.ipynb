{
 "cells": [
  {
   "cell_type": "markdown",
   "metadata": {
    "colab": {
     "base_uri": "https://localhost:8080/",
     "height": 282
    },
    "executionInfo": {
     "elapsed": 465,
     "status": "ok",
     "timestamp": 1649404926408,
     "user": {
      "displayName": "jothi ramasamy",
      "userId": "05600303898970236765"
     },
     "user_tz": -330
    },
    "id": "gBFIRnmkKg3k",
    "outputId": "43046f46-9be6-44a4-8cb7-11420135cb30"
   },
   "source": [
    "# AI Lab 7 Q1. A Meher Shrishti Nigam 20BRS1193"
   ]
  },
  {
   "cell_type": "code",
   "execution_count": 3,
   "metadata": {},
   "outputs": [
    {
     "data": {
      "text/plain": [
       "[]"
      ]
     },
     "execution_count": 3,
     "metadata": {},
     "output_type": "execute_result"
    },
    {
     "data": {
      "image/png": "[encoded data removed]",
      "text/plain": [
       "<Figure size 432x288 with 1 Axes>"
      ]
     },
     "metadata": {
      "needs_background": "light"
     },
     "output_type": "display_data"
    }
   ],
   "source": [
    "import matplotlib.pyplot as plt\n",
    "import numpy as np\n",
    "\n",
    "fig, ax = plt.subplots()\n",
    "xmin, xmax = -0.2, 1.4\n",
    "X = np.arange(xmin, xmax, 0.1)\n",
    "ax.scatter(0, 0, color=\"r\")\n",
    "\n",
    "ax.scatter(0, 1, color=\"r\")\n",
    "ax.scatter(1, 0, color=\"r\")\n",
    "\n",
    "ax.scatter(1, 1, color=\"g\")\n",
    "ax.set_xlim([xmin, xmax])\n",
    "ax.set_ylim([-0.1, 1.1])\n",
    "\n",
    "plt.plot()"
   ]
  },
  {
   "cell_type": "code",
   "execution_count": 4,
   "metadata": {
    "colab": {
     "base_uri": "https://localhost:8080/",
     "height": 282
    },
    "executionInfo": {
     "elapsed": 513,
     "status": "ok",
     "timestamp": 1649404951976,
     "user": {
      "displayName": "jothi ramasamy",
      "userId": "05600303898970236765"
     },
     "user_tz": -330
    },
    "id": "vJBSWV-8MTNm",
    "outputId": "421b8f6c-66ee-4326-d3b1-20dd7692ba66",
    "scrolled": true
   },
   "outputs": [
    {
     "data": {
      "text/plain": [
       "[]"
      ]
     },
     "execution_count": 4,
     "metadata": {},
     "output_type": "execute_result"
    },
    {
     "data": {
      "image/png": "[encoded data removed]",
      "text/plain": [
       "<Figure size 432x288 with 1 Axes>"
      ]
     },
     "metadata": {
      "needs_background": "light"
     },
     "output_type": "display_data"
    }
   ],
   "source": [
    "#draw a decision boundary separing classes\n",
    "import matplotlib.pyplot as plt\n",
    "import numpy as np\n",
    "\n",
    "fig, ax = plt.subplots()\n",
    "xmin, xmax = -0.2, 1.4\n",
    "X = np.arange(xmin, xmax, 0.1)\n",
    "ax.scatter(0, 0, color=\"r\")\n",
    "\n",
    "ax.scatter(0, 1, color=\"r\")\n",
    "ax.scatter(1, 0, color=\"r\")\n",
    "\n",
    "ax.scatter(1, 1, color=\"g\")\n",
    "ax.set_xlim([xmin, xmax])\n",
    "ax.set_ylim([-0.1, 1.1])\n",
    "#choose suitable values for m and c\n",
    "m, c = -1, 1.5\n",
    "ax.plot(X, m * X + c )\n",
    "plt.plot()\n"
   ]
  },
  {
   "cell_type": "code",
   "execution_count": 5,
   "metadata": {
    "id": "CmId77qiKrIf"
   },
   "outputs": [],
   "source": [
    "import random\n",
    "\n",
    "X = [\n",
    "\n",
    "    [(0, 0), 0],\n",
    "    [(0, 1), 0],\n",
    "    [(1, 0), 0],\n",
    "    [(1, 1), 1]\n",
    "]\n",
    "\n",
    "def activation_function(x):\n",
    "    if x > 0:\n",
    "        return 1\n",
    "    elif x < 0:\n",
    "        return 0\n",
    "\n",
    "def run_perceptron(X1):\n",
    "    bias = (1,) # the bias is always one\n",
    "    learning_constant = 0.1\n",
    "    epochs = 50 # how many times the machine learns\n",
    "\n",
    "    weights = []\n",
    "\n",
    "    # initialize with 3 random weights between -1 and 1, one for each input and one for the bias\n",
    "    for i in range(3):\n",
    "        weights.append(random.uniform(0, 1))\n",
    "\n",
    "    for i in range(epochs):\n",
    "        inputs, expected_output = random.choice(X1)\n",
    "        \n",
    "        #write code to add the bias with input\n",
    "        inputs = inputs+bias\n",
    "        weighted_sum = np.dot(inputs, weights)\n",
    "        # Write code to find the sign of the weighted sum using activation function\n",
    "        predicted = activation_function(weighted_sum)\n",
    "        #Write code for error\n",
    "        error = expected_output - predicted\n",
    "        weights += learning_constant * error * np.asarray(inputs) \n",
    "\n",
    "\n",
    "    inputs, expected_output = random.choice(X1)\n",
    "    print( \"inputs: \" + str(inputs))\n",
    "    inputs = inputs + bias\n",
    "    weighted_sum = np.dot(inputs, weights)\n",
    "    print(\"weighted sum: \" + str(weighted_sum))\n",
    "    print( \"correct answer: \" + str(expected_output))\n",
    "    print (\"perceptron predicted: \" + str(activation_function(weighted_sum)) + '\\n')\n",
    "\n",
    "\n",
    "    "
   ]
  },
  {
   "cell_type": "code",
   "execution_count": 6,
   "metadata": {
    "colab": {
     "base_uri": "https://localhost:8080/"
    },
    "executionInfo": {
     "elapsed": 333,
     "status": "ok",
     "timestamp": 1649404735375,
     "user": {
      "displayName": "jothi ramasamy",
      "userId": "05600303898970236765"
     },
     "user_tz": -330
    },
    "id": "Yyf99tm-LhCU",
    "outputId": "6e0601a4-59ae-4412-e7f3-465115c6ee52"
   },
   "outputs": [
    {
     "name": "stdout",
     "output_type": "stream",
     "text": [
      "inputs: (1, 0)\n",
      "weighted sum: -0.17018168982070203\n",
      "correct answer: 0\n",
      "perceptron predicted: 0\n",
      "\n"
     ]
    }
   ],
   "source": [
    "run_perceptron(X)"
   ]
  },
  {
   "cell_type": "code",
   "execution_count": null,
   "metadata": {},
   "outputs": [],
   "source": []
  }
 ],
 "metadata": {
  "colab": {
   "authorship_tag": "ABX9TyNIReW5YAQhiDcQ26RhYP1e",
   "name": "ANNLab_perceptron.ipynb",
   "provenance": [],
   "toc_visible": true
  },
  "kernelspec": {
   "display_name": "Python 3 (ipykernel)",
   "language": "python",
   "name": "python3"
  },
  "language_info": {
   "codemirror_mode": {
    "name": "ipython",
    "version": 3
   },
   "file_extension": ".py",
   "mimetype": "text/x-python",
   "name": "python",
   "nbconvert_exporter": "python",
   "pygments_lexer": "ipython3",
   "version": "3.10.4"
  }
 },
 "nbformat": 4,
 "nbformat_minor": 1
}
